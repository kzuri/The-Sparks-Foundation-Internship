{
 "cells": [
  {
   "cell_type": "markdown",
   "metadata": {
    "id": "GiaqKNDovjPO"
   },
   "source": [
    "# **Author : Devarsh Patel**"
   ]
  },
  {
   "cell_type": "markdown",
   "metadata": {
    "id": "BuQpGDvLvjPZ"
   },
   "source": [
    "# Task 4 : Stock Market Prediction using Numerical and Textual Analysis"
   ]
  },
  {
   "cell_type": "markdown",
   "metadata": {
    "id": "Vd61GeaLvjPa"
   },
   "source": [
    "**GRIP @ The Sparks Foundation**"
   ]
  },
  {
   "cell_type": "markdown",
   "metadata": {
    "id": "WGjGXnquvjPc"
   },
   "source": [
    "- To prediction the stock prices of SENSEX (S&P BSE SENSEX)\n",
    "- Create a hybrid model for stock price or performance prediction using numerical analysis of historical stock prices, and sentimental analysis of news headlines."
   ]
  },
  {
   "cell_type": "markdown",
   "metadata": {
    "id": "4NGjfpzavjPd"
   },
   "source": [
    "- Stocks data source : finance.yahoo.com\n",
    "- News headline data : https://bit.ly/36fFPI6"
   ]
  },
  {
   "cell_type": "markdown",
   "metadata": {
    "id": "5Rfdm-6XvjPe"
   },
   "source": [
    "**Importing libraries**"
   ]
  },
  {
   "cell_type": "code",
   "execution_count": 4,
   "metadata": {
    "colab": {
     "base_uri": "https://localhost:8080/"
    },
    "id": "Mk8QpvAmvjPe",
    "outputId": "cc167f06-cebf-4fe8-a060-7d8b87536130"
   },
   "outputs": [
    {
     "name": "stderr",
     "output_type": "stream",
     "text": [
      "[nltk_data] Downloading package stopwords to\n",
      "[nltk_data]     C:\\Users\\patel\\AppData\\Roaming\\nltk_data...\n",
      "[nltk_data]   Package stopwords is already up-to-date!\n",
      "[nltk_data] Downloading package vader_lexicon to\n",
      "[nltk_data]     C:\\Users\\patel\\AppData\\Roaming\\nltk_data...\n",
      "[nltk_data]   Package vader_lexicon is already up-to-date!\n"
     ]
    }
   ],
   "source": [
    "import os\n",
    "import re\n",
    "import math\n",
    "from datetime import datetime\n",
    "import pandas as pd\n",
    "import numpy as np\n",
    "\n",
    "import matplotlib.pyplot as plt\n",
    "import seaborn as sns\n",
    "\n",
    "import nltk\n",
    "from nltk.sentiment.vader import SentimentIntensityAnalyzer\n",
    "from nltk.corpus import stopwords\n",
    "nltk.download('stopwords')\n",
    "nltk.download('vader_lexicon')\n",
    "from textblob import TextBlob\n",
    "\n",
    "from statsmodels.tsa.arima_model import ARIMA\n",
    "from statsmodels.tsa.statespace.sarimax import SARIMAX\n",
    "from statsmodels.tsa.stattools import adfuller\n",
    "\n",
    "from sklearn.preprocessing import MinMaxScaler\n",
    "from sklearn.model_selection import train_test_split\n",
    "from sklearn.ensemble import RandomForestRegressor, AdaBoostRegressor\n",
    "from sklearn.tree import DecisionTreeRegressor\n",
    "from sklearn.metrics import mean_squared_error\n",
    "\n",
    "from keras.models import Sequential\n",
    "from keras.layers import Dense, LSTM\n",
    "\n",
    "import xgboost\n",
    "import lightgbm"
   ]
  },
  {
   "cell_type": "markdown",
   "metadata": {
    "id": "I_mubL5QvjPh"
   },
   "source": [
    "# Time series data analysis"
   ]
  },
  {
   "cell_type": "code",
   "execution_count": 9,
   "metadata": {
    "colab": {
     "base_uri": "https://localhost:8080/",
     "height": 424
    },
    "id": "_A0Az5rqvjPi",
    "outputId": "6ea5032d-90bb-4a58-94d5-f9b14ea76ae4"
   },
   "outputs": [
    {
     "data": {
      "text/html": [
       "<div>\n",
       "<style scoped>\n",
       "    .dataframe tbody tr th:only-of-type {\n",
       "        vertical-align: middle;\n",
       "    }\n",
       "\n",
       "    .dataframe tbody tr th {\n",
       "        vertical-align: top;\n",
       "    }\n",
       "\n",
       "    .dataframe thead th {\n",
       "        text-align: right;\n",
       "    }\n",
       "</style>\n",
       "<table border=\"1\" class=\"dataframe\">\n",
       "  <thead>\n",
       "    <tr style=\"text-align: right;\">\n",
       "      <th></th>\n",
       "      <th>Date</th>\n",
       "      <th>Open</th>\n",
       "      <th>High</th>\n",
       "      <th>Low</th>\n",
       "      <th>Close</th>\n",
       "      <th>Adj Close</th>\n",
       "      <th>Volume</th>\n",
       "    </tr>\n",
       "  </thead>\n",
       "  <tbody>\n",
       "    <tr>\n",
       "      <th>0</th>\n",
       "      <td>2001-01-02</td>\n",
       "      <td>3953.219971</td>\n",
       "      <td>4028.570068</td>\n",
       "      <td>3929.370117</td>\n",
       "      <td>4018.879883</td>\n",
       "      <td>4018.879883</td>\n",
       "      <td>0.0</td>\n",
       "    </tr>\n",
       "    <tr>\n",
       "      <th>1</th>\n",
       "      <td>2001-01-03</td>\n",
       "      <td>3977.580078</td>\n",
       "      <td>4067.659912</td>\n",
       "      <td>3977.580078</td>\n",
       "      <td>4060.020020</td>\n",
       "      <td>4060.020020</td>\n",
       "      <td>0.0</td>\n",
       "    </tr>\n",
       "    <tr>\n",
       "      <th>2</th>\n",
       "      <td>2001-01-04</td>\n",
       "      <td>4180.970215</td>\n",
       "      <td>4180.970215</td>\n",
       "      <td>4109.549805</td>\n",
       "      <td>4115.370117</td>\n",
       "      <td>4115.370117</td>\n",
       "      <td>0.0</td>\n",
       "    </tr>\n",
       "    <tr>\n",
       "      <th>3</th>\n",
       "      <td>2001-01-05</td>\n",
       "      <td>4116.339844</td>\n",
       "      <td>4195.009766</td>\n",
       "      <td>4115.350098</td>\n",
       "      <td>4183.729980</td>\n",
       "      <td>4183.729980</td>\n",
       "      <td>0.0</td>\n",
       "    </tr>\n",
       "    <tr>\n",
       "      <th>4</th>\n",
       "      <td>2001-01-08</td>\n",
       "      <td>4164.759766</td>\n",
       "      <td>4206.720215</td>\n",
       "      <td>4101.529785</td>\n",
       "      <td>4120.430176</td>\n",
       "      <td>4120.430176</td>\n",
       "      <td>0.0</td>\n",
       "    </tr>\n",
       "    <tr>\n",
       "      <th>...</th>\n",
       "      <td>...</td>\n",
       "      <td>...</td>\n",
       "      <td>...</td>\n",
       "      <td>...</td>\n",
       "      <td>...</td>\n",
       "      <td>...</td>\n",
       "      <td>...</td>\n",
       "    </tr>\n",
       "    <tr>\n",
       "      <th>5039</th>\n",
       "      <td>2021-03-02</td>\n",
       "      <td>50258.089844</td>\n",
       "      <td>50439.820313</td>\n",
       "      <td>49807.121094</td>\n",
       "      <td>50296.890625</td>\n",
       "      <td>50296.890625</td>\n",
       "      <td>17500.0</td>\n",
       "    </tr>\n",
       "    <tr>\n",
       "      <th>5040</th>\n",
       "      <td>2021-03-03</td>\n",
       "      <td>50738.210938</td>\n",
       "      <td>51539.890625</td>\n",
       "      <td>50512.839844</td>\n",
       "      <td>51444.648438</td>\n",
       "      <td>51444.648438</td>\n",
       "      <td>15800.0</td>\n",
       "    </tr>\n",
       "    <tr>\n",
       "      <th>5041</th>\n",
       "      <td>2021-03-04</td>\n",
       "      <td>50812.140625</td>\n",
       "      <td>51256.550781</td>\n",
       "      <td>50539.921875</td>\n",
       "      <td>50846.078125</td>\n",
       "      <td>50846.078125</td>\n",
       "      <td>21800.0</td>\n",
       "    </tr>\n",
       "    <tr>\n",
       "      <th>5042</th>\n",
       "      <td>2021-03-05</td>\n",
       "      <td>50517.359375</td>\n",
       "      <td>50886.191406</td>\n",
       "      <td>50160.539063</td>\n",
       "      <td>50405.320313</td>\n",
       "      <td>50405.320313</td>\n",
       "      <td>19200.0</td>\n",
       "    </tr>\n",
       "    <tr>\n",
       "      <th>5043</th>\n",
       "      <td>2021-03-08</td>\n",
       "      <td>50654.019531</td>\n",
       "      <td>50985.769531</td>\n",
       "      <td>50318.261719</td>\n",
       "      <td>50441.070313</td>\n",
       "      <td>50441.070313</td>\n",
       "      <td>14200.0</td>\n",
       "    </tr>\n",
       "  </tbody>\n",
       "</table>\n",
       "<p>5044 rows × 7 columns</p>\n",
       "</div>"
      ],
      "text/plain": [
       "           Date          Open  ...     Adj Close   Volume\n",
       "0    2001-01-02   3953.219971  ...   4018.879883      0.0\n",
       "1    2001-01-03   3977.580078  ...   4060.020020      0.0\n",
       "2    2001-01-04   4180.970215  ...   4115.370117      0.0\n",
       "3    2001-01-05   4116.339844  ...   4183.729980      0.0\n",
       "4    2001-01-08   4164.759766  ...   4120.430176      0.0\n",
       "...         ...           ...  ...           ...      ...\n",
       "5039 2021-03-02  50258.089844  ...  50296.890625  17500.0\n",
       "5040 2021-03-03  50738.210938  ...  51444.648438  15800.0\n",
       "5041 2021-03-04  50812.140625  ...  50846.078125  21800.0\n",
       "5042 2021-03-05  50517.359375  ...  50405.320313  19200.0\n",
       "5043 2021-03-08  50654.019531  ...  50441.070313  14200.0\n",
       "\n",
       "[5044 rows x 7 columns]"
      ]
     },
     "execution_count": 9,
     "metadata": {
      "tags": []
     },
     "output_type": "execute_result"
    }
   ],
   "source": [
    "stocks = pd.read_csv('^BSESN.csv', parse_dates=['Date'])\n",
    "stocks"
   ]
  },
  {
   "cell_type": "code",
   "execution_count": 10,
   "metadata": {
    "colab": {
     "base_uri": "https://localhost:8080/"
    },
    "id": "88IVrzfyvjPj",
    "outputId": "4fcf4ebf-f426-4e49-c1fb-49e999e5dd10"
   },
   "outputs": [
    {
     "name": "stdout",
     "output_type": "stream",
     "text": [
      "<class 'pandas.core.frame.DataFrame'>\n",
      "RangeIndex: 5044 entries, 0 to 5043\n",
      "Data columns (total 7 columns):\n",
      " #   Column     Non-Null Count  Dtype         \n",
      "---  ------     --------------  -----         \n",
      " 0   Date       5044 non-null   datetime64[ns]\n",
      " 1   Open       4967 non-null   float64       \n",
      " 2   High       4967 non-null   float64       \n",
      " 3   Low        4967 non-null   float64       \n",
      " 4   Close      4967 non-null   float64       \n",
      " 5   Adj Close  4967 non-null   float64       \n",
      " 6   Volume     4967 non-null   float64       \n",
      "dtypes: datetime64[ns](1), float64(6)\n",
      "memory usage: 276.0 KB\n"
     ]
    }
   ],
   "source": [
    "stocks.info()"
   ]
  },
  {
   "cell_type": "code",
   "execution_count": 11,
   "metadata": {
    "colab": {
     "base_uri": "https://localhost:8080/"
    },
    "id": "x7MarLNmvjPk",
    "outputId": "ee18f2f6-7978-4889-9f61-d9a72ceb508c"
   },
   "outputs": [
    {
     "data": {
      "text/plain": [
       "Date          0\n",
       "Open         77\n",
       "High         77\n",
       "Low          77\n",
       "Close        77\n",
       "Adj Close    77\n",
       "Volume       77\n",
       "dtype: int64"
      ]
     },
     "execution_count": 11,
     "metadata": {
      "tags": []
     },
     "output_type": "execute_result"
    }
   ],
   "source": [
    "stocks.isnull().sum()"
   ]
  },
  {
   "cell_type": "code",
   "execution_count": 45,
   "metadata": {
    "id": "NHp9pBHHvjPm"
   },
   "outputs": [],
   "source": [
    "stocks = stocks.drop_duplicates()\n",
    "stocks = stocks.dropna()\n",
    "stocks.reset_index(drop=True, inplace=True)"
   ]
  },
  {
   "cell_type": "code",
   "execution_count": 46,
   "metadata": {
    "colab": {
     "base_uri": "https://localhost:8080/",
     "height": 424
    },
    "id": "M-IUvC2xvjPm",
    "outputId": "ef68f671-fca7-44dd-84b2-a0f49c579cc7"
   },
   "outputs": [
    {
     "data": {
      "text/html": [
       "<div>\n",
       "<style scoped>\n",
       "    .dataframe tbody tr th:only-of-type {\n",
       "        vertical-align: middle;\n",
       "    }\n",
       "\n",
       "    .dataframe tbody tr th {\n",
       "        vertical-align: top;\n",
       "    }\n",
       "\n",
       "    .dataframe thead th {\n",
       "        text-align: right;\n",
       "    }\n",
       "</style>\n",
       "<table border=\"1\" class=\"dataframe\">\n",
       "  <thead>\n",
       "    <tr style=\"text-align: right;\">\n",
       "      <th></th>\n",
       "      <th>Date</th>\n",
       "      <th>Open</th>\n",
       "      <th>High</th>\n",
       "      <th>Low</th>\n",
       "      <th>Close</th>\n",
       "      <th>Adj Close</th>\n",
       "      <th>Volume</th>\n",
       "      <th>Return</th>\n",
       "    </tr>\n",
       "  </thead>\n",
       "  <tbody>\n",
       "    <tr>\n",
       "      <th>0</th>\n",
       "      <td>2001-01-03</td>\n",
       "      <td>3977.580078</td>\n",
       "      <td>4067.659912</td>\n",
       "      <td>3977.580078</td>\n",
       "      <td>4060.020020</td>\n",
       "      <td>4060.020020</td>\n",
       "      <td>0.0</td>\n",
       "      <td>0.010237</td>\n",
       "    </tr>\n",
       "    <tr>\n",
       "      <th>1</th>\n",
       "      <td>2001-01-04</td>\n",
       "      <td>4180.970215</td>\n",
       "      <td>4180.970215</td>\n",
       "      <td>4109.549805</td>\n",
       "      <td>4115.370117</td>\n",
       "      <td>4115.370117</td>\n",
       "      <td>0.0</td>\n",
       "      <td>0.013633</td>\n",
       "    </tr>\n",
       "    <tr>\n",
       "      <th>2</th>\n",
       "      <td>2001-01-05</td>\n",
       "      <td>4116.339844</td>\n",
       "      <td>4195.009766</td>\n",
       "      <td>4115.350098</td>\n",
       "      <td>4183.729980</td>\n",
       "      <td>4183.729980</td>\n",
       "      <td>0.0</td>\n",
       "      <td>0.016611</td>\n",
       "    </tr>\n",
       "    <tr>\n",
       "      <th>3</th>\n",
       "      <td>2001-01-08</td>\n",
       "      <td>4164.759766</td>\n",
       "      <td>4206.720215</td>\n",
       "      <td>4101.529785</td>\n",
       "      <td>4120.430176</td>\n",
       "      <td>4120.430176</td>\n",
       "      <td>0.0</td>\n",
       "      <td>-0.015130</td>\n",
       "    </tr>\n",
       "    <tr>\n",
       "      <th>4</th>\n",
       "      <td>2001-01-09</td>\n",
       "      <td>4114.740234</td>\n",
       "      <td>4166.839844</td>\n",
       "      <td>4101.009766</td>\n",
       "      <td>4125.310059</td>\n",
       "      <td>4125.310059</td>\n",
       "      <td>0.0</td>\n",
       "      <td>0.001184</td>\n",
       "    </tr>\n",
       "    <tr>\n",
       "      <th>...</th>\n",
       "      <td>...</td>\n",
       "      <td>...</td>\n",
       "      <td>...</td>\n",
       "      <td>...</td>\n",
       "      <td>...</td>\n",
       "      <td>...</td>\n",
       "      <td>...</td>\n",
       "      <td>...</td>\n",
       "    </tr>\n",
       "    <tr>\n",
       "      <th>4961</th>\n",
       "      <td>2021-03-02</td>\n",
       "      <td>50258.089844</td>\n",
       "      <td>50439.820313</td>\n",
       "      <td>49807.121094</td>\n",
       "      <td>50296.890625</td>\n",
       "      <td>50296.890625</td>\n",
       "      <td>17500.0</td>\n",
       "      <td>0.008968</td>\n",
       "    </tr>\n",
       "    <tr>\n",
       "      <th>4962</th>\n",
       "      <td>2021-03-03</td>\n",
       "      <td>50738.210938</td>\n",
       "      <td>51539.890625</td>\n",
       "      <td>50512.839844</td>\n",
       "      <td>51444.648438</td>\n",
       "      <td>51444.648438</td>\n",
       "      <td>15800.0</td>\n",
       "      <td>0.022820</td>\n",
       "    </tr>\n",
       "    <tr>\n",
       "      <th>4963</th>\n",
       "      <td>2021-03-04</td>\n",
       "      <td>50812.140625</td>\n",
       "      <td>51256.550781</td>\n",
       "      <td>50539.921875</td>\n",
       "      <td>50846.078125</td>\n",
       "      <td>50846.078125</td>\n",
       "      <td>21800.0</td>\n",
       "      <td>-0.011635</td>\n",
       "    </tr>\n",
       "    <tr>\n",
       "      <th>4964</th>\n",
       "      <td>2021-03-05</td>\n",
       "      <td>50517.359375</td>\n",
       "      <td>50886.191406</td>\n",
       "      <td>50160.539063</td>\n",
       "      <td>50405.320313</td>\n",
       "      <td>50405.320313</td>\n",
       "      <td>19200.0</td>\n",
       "      <td>-0.008668</td>\n",
       "    </tr>\n",
       "    <tr>\n",
       "      <th>4965</th>\n",
       "      <td>2021-03-08</td>\n",
       "      <td>50654.019531</td>\n",
       "      <td>50985.769531</td>\n",
       "      <td>50318.261719</td>\n",
       "      <td>50441.070313</td>\n",
       "      <td>50441.070313</td>\n",
       "      <td>14200.0</td>\n",
       "      <td>0.000709</td>\n",
       "    </tr>\n",
       "  </tbody>\n",
       "</table>\n",
       "<p>4966 rows × 8 columns</p>\n",
       "</div>"
      ],
      "text/plain": [
       "           Date          Open          High  ...     Adj Close   Volume    Return\n",
       "0    2001-01-03   3977.580078   4067.659912  ...   4060.020020      0.0  0.010237\n",
       "1    2001-01-04   4180.970215   4180.970215  ...   4115.370117      0.0  0.013633\n",
       "2    2001-01-05   4116.339844   4195.009766  ...   4183.729980      0.0  0.016611\n",
       "3    2001-01-08   4164.759766   4206.720215  ...   4120.430176      0.0 -0.015130\n",
       "4    2001-01-09   4114.740234   4166.839844  ...   4125.310059      0.0  0.001184\n",
       "...         ...           ...           ...  ...           ...      ...       ...\n",
       "4961 2021-03-02  50258.089844  50439.820313  ...  50296.890625  17500.0  0.008968\n",
       "4962 2021-03-03  50738.210938  51539.890625  ...  51444.648438  15800.0  0.022820\n",
       "4963 2021-03-04  50812.140625  51256.550781  ...  50846.078125  21800.0 -0.011635\n",
       "4964 2021-03-05  50517.359375  50886.191406  ...  50405.320313  19200.0 -0.008668\n",
       "4965 2021-03-08  50654.019531  50985.769531  ...  50441.070313  14200.0  0.000709\n",
       "\n",
       "[4966 rows x 8 columns]"
      ]
     },
     "execution_count": 46,
     "metadata": {
      "tags": []
     },
     "output_type": "execute_result"
    }
   ],
   "source": [
    "stocks"
   ]
  },
  {
   "cell_type": "code",
   "execution_count": 14,
   "metadata": {
    "colab": {
     "base_uri": "https://localhost:8080/",
     "height": 483
    },
    "id": "OQ7hNXhwvjPn",
    "outputId": "670cfecc-04cb-4546-aa2b-cb59dcefb7f2"
   },
   "outputs": [
    {
     "data": {
      "text/plain": [
       "<matplotlib.axes._subplots.AxesSubplot at 0x7f195589df50>"
      ]
     },
     "execution_count": 14,
     "metadata": {
      "tags": []
     },
     "output_type": "execute_result"
    },
    {
     "data": {
      "image/png": "[encoded data removed]",
      "text/plain": [
       "<Figure size 1080x576 with 1 Axes>"
      ]
     },
     "metadata": {
      "needs_background": "light",
      "tags": []
     },
     "output_type": "display_data"
    }
   ],
   "source": [
    "stocks.plot('Date', 'Close', figsize=(15, 8), ylabel='BSESN')"
   ]
  },
  {
   "cell_type": "markdown",
   "metadata": {
    "id": "jYZPQZTWvjPn"
   },
   "source": [
    "**Moving Average**"
   ]
  },
  {
   "cell_type": "code",
   "execution_count": 15,
   "metadata": {
    "colab": {
     "base_uri": "https://localhost:8080/",
     "height": 515
    },
    "id": "V2QhtpxXvjPn",
    "outputId": "60c721fb-fb31-4924-d101-9adbd6195ee7"
   },
   "outputs": [
    {
     "data": {
      "text/plain": [
       "<matplotlib.legend.Legend at 0x7f195574e310>"
      ]
     },
     "execution_count": 15,
     "metadata": {
      "tags": []
     },
     "output_type": "execute_result"
    },
    {
     "data": {
      "image/png": "[encoded data removed]",
      "text/plain": [
       "<Figure size 1080x576 with 1 Axes>"
      ]
     },
     "metadata": {
      "needs_background": "light",
      "tags": []
     },
     "output_type": "display_data"
    }
   ],
   "source": [
    "close = stocks['Close']\n",
    "\n",
    "mean = close.rolling(window=50).mean()\n",
    "std = close.rolling(window=50).std()\n",
    "\n",
    "plt.figure(figsize=(15, 8))\n",
    "close.plot(label='Close')\n",
    "mean.plot(label='Mean')\n",
    "std.plot(label='Std dev')\n",
    "plt.xlabel('Data')\n",
    "plt.legend()"
   ]
  },
  {
   "cell_type": "markdown",
   "metadata": {
    "id": "W4_TDY3DvjPo"
   },
   "source": [
    "**Returns**"
   ]
  },
  {
   "cell_type": "code",
   "execution_count": 16,
   "metadata": {
    "colab": {
     "base_uri": "https://localhost:8080/",
     "height": 515
    },
    "id": "v62axNqxvjPp",
    "outputId": "61b308f6-25ae-4091-ca3e-b6da0aa1efc9"
   },
   "outputs": [
    {
     "data": {
      "text/plain": [
       "Text(0.5, 0, 'Date')"
      ]
     },
     "execution_count": 16,
     "metadata": {
      "tags": []
     },
     "output_type": "execute_result"
    },
    {
     "data": {
      "image/png": "[encoded data removed]",
      "text/plain": [
       "<Figure size 864x576 with 1 Axes>"
      ]
     },
     "metadata": {
      "needs_background": "light",
      "tags": []
     },
     "output_type": "display_data"
    }
   ],
   "source": [
    "stocks['Return'] = stocks['Adj Close'].pct_change()\n",
    "stocks['Return'].plot(figsize=(12, 8))\n",
    "plt.xlabel('Date')"
   ]
  },
  {
   "cell_type": "markdown",
   "metadata": {
    "id": "Noj874_HvjPq"
   },
   "source": [
    "**Stationary test**"
   ]
  },
  {
   "cell_type": "code",
   "execution_count": 17,
   "metadata": {
    "colab": {
     "base_uri": "https://localhost:8080/",
     "height": 743
    },
    "id": "J4bqno-nvjPq",
    "outputId": "6ab8f0c8-e4dc-4a94-8258-80d28414f46c"
   },
   "outputs": [
    {
     "data": {
      "image/png": "[encoded data removed]",
      "text/plain": [
       "<Figure size 1440x720 with 1 Axes>"
      ]
     },
     "metadata": {
      "needs_background": "light",
      "tags": []
     },
     "output_type": "display_data"
    },
    {
     "name": "stdout",
     "output_type": "stream",
     "text": [
      "Results of dickey fuller test\n",
      "ADF Test Statistic : 0.6929296293828154\n",
      "p-value : 0.989695706924894\n",
      "#Lags Used : 28\n",
      "Number of Observations Used : 4938\n",
      "Weak evidence against null hypothesis, time series is non-stationary \n"
     ]
    }
   ],
   "source": [
    "def test_stationarity(timeseries):\n",
    "\n",
    "    #Determine the rolling statistics\n",
    "    rolmean = timeseries.rolling(20).mean()\n",
    "    rolstd = timeseries.rolling(20).std()\n",
    "\n",
    "    #Plot rolling statistics:\n",
    "    plt.figure(figsize=(20, 10))\n",
    "    plt.plot(timeseries, color='blue', label='original')\n",
    "    plt.plot(rolmean, color='r', label='rolling mean')\n",
    "    plt.plot(rolstd, color='black', label='rolling std')\n",
    "    plt.xlabel('Date')\n",
    "    plt.legend()\n",
    "    plt.title('Rolling Mean and Standard Deviation', fontsize=30)\n",
    "    plt.show(block=False)\n",
    "\n",
    "    print('Results of dickey fuller test')\n",
    "    result = adfuller(timeseries, autolag='AIC')\n",
    "    labels = [\n",
    "        'ADF Test Statistic', 'p-value', '#Lags Used',\n",
    "        'Number of Observations Used'\n",
    "    ]\n",
    "    for value, label in zip(result, labels):\n",
    "        print(label + ' : ' + str(value))\n",
    "    if result[1] <= 0.05:\n",
    "        print(\n",
    "            \"Strong evidence against the null hypothesis(Ho), reject the null hypothesis. Data is stationary\"\n",
    "        )\n",
    "    else:\n",
    "        print(\n",
    "            \"Weak evidence against null hypothesis, time series is non-stationary \"\n",
    "        )\n",
    "\n",
    "\n",
    "test_stationarity(stocks['Close'])"
   ]
  },
  {
   "cell_type": "markdown",
   "metadata": {
    "id": "NUqOe-CjzFpP"
   },
   "source": [
    "# LSTM network to predict future stock prices"
   ]
  },
  {
   "cell_type": "code",
   "execution_count": 55,
   "metadata": {
    "id": "KfLvt2JfzKse"
   },
   "outputs": [],
   "source": [
    "def create_dataset(df, look_back=1):\n",
    "    dataX, dataY = [], []\n",
    "\n",
    "    for i in range(len(df) - look_back - 1):\n",
    "        a = df[i:(i + look_back), 0]\n",
    "        dataX.append(a)\n",
    "        dataY.append(df[i + look_back, 0])\n",
    "\n",
    "    return np.array(dataX), np.array(dataY)"
   ]
  },
  {
   "cell_type": "code",
   "execution_count": 47,
   "metadata": {
    "id": "qMOtJ3_lzerh"
   },
   "outputs": [],
   "source": [
    "stocks.dropna(inplace=True)\n",
    "stock_values = stocks['Close'].values.astype('float32')"
   ]
  },
  {
   "cell_type": "markdown",
   "metadata": {
    "id": "yLLPKCHbz27m"
   },
   "source": [
    "## Data pre-processing and feature scaling"
   ]
  },
  {
   "cell_type": "code",
   "execution_count": 48,
   "metadata": {
    "id": "ZGQAjKYI0Aku"
   },
   "outputs": [],
   "source": [
    "scaler = MinMaxScaler(feature_range=(0, 1))\n",
    "\n",
    "stock_values = scaler.fit_transform(stock_values.reshape(-1, 1))\n",
    "\n",
    "n_train = len(stock_values) * 2 // 3\n",
    "n_test = len(stock_values) - n_train"
   ]
  },
  {
   "cell_type": "code",
   "execution_count": 58,
   "metadata": {
    "id": "vDhdXMLo0kFS"
   },
   "outputs": [],
   "source": [
    "train, test = stock_values[:n_train, :], stock_values[-n_test:, :]"
   ]
  },
  {
   "cell_type": "code",
   "execution_count": 59,
   "metadata": {
    "id": "enIpvZmr0x1O"
   },
   "outputs": [],
   "source": [
    "look_back = 3\n",
    "\n",
    "trainX, trainY = create_dataset(train, look_back)\n",
    "testX, testY = create_dataset(test, look_back)\n",
    "\n",
    "trainX = np.reshape(trainX, (trainX.shape[0], trainX.shape[1], 1))\n",
    "testX = np.reshape(testX, (testX.shape[0], testX.shape[1], 1))"
   ]
  },
  {
   "cell_type": "markdown",
   "metadata": {
    "id": "GXufw_Ws0-R4"
   },
   "source": [
    "## Creating LSTM model"
   ]
  },
  {
   "cell_type": "code",
   "execution_count": 65,
   "metadata": {
    "colab": {
     "base_uri": "https://localhost:8080/"
    },
    "id": "Gdqf4oWP2J4f",
    "outputId": "d9bfbabf-28d7-482e-8114-3249c0035963"
   },
   "outputs": [
    {
     "name": "stdout",
     "output_type": "stream",
     "text": [
      "Epoch 1/14\n",
      "3306/3306 - 7s - loss: 0.0030\n",
      "Epoch 2/14\n",
      "3306/3306 - 5s - loss: 4.4062e-05\n",
      "Epoch 3/14\n",
      "3306/3306 - 5s - loss: 4.4958e-05\n",
      "Epoch 4/14\n",
      "3306/3306 - 5s - loss: 4.3595e-05\n",
      "Epoch 5/14\n",
      "3306/3306 - 5s - loss: 4.1172e-05\n",
      "Epoch 6/14\n",
      "3306/3306 - 5s - loss: 3.8540e-05\n",
      "Epoch 7/14\n",
      "3306/3306 - 5s - loss: 3.6162e-05\n",
      "Epoch 8/14\n",
      "3306/3306 - 5s - loss: 3.0874e-05\n",
      "Epoch 9/14\n",
      "3306/3306 - 5s - loss: 2.8041e-05\n",
      "Epoch 10/14\n",
      "3306/3306 - 5s - loss: 2.5145e-05\n",
      "Epoch 11/14\n",
      "3306/3306 - 5s - loss: 2.5399e-05\n",
      "Epoch 12/14\n",
      "3306/3306 - 5s - loss: 2.3934e-05\n",
      "Epoch 13/14\n",
      "3306/3306 - 5s - loss: 2.3976e-05\n",
      "Epoch 14/14\n",
      "3306/3306 - 5s - loss: 2.2529e-05\n"
     ]
    },
    {
     "data": {
      "text/plain": [
       "<tensorflow.python.keras.callbacks.History at 0x7f18f9d19f90>"
      ]
     },
     "execution_count": 65,
     "metadata": {
      "tags": []
     },
     "output_type": "execute_result"
    }
   ],
   "source": [
    "model = Sequential()\n",
    "model.add(LSTM(7, input_shape=(look_back, 1)))\n",
    "model.add(Dense(1))\n",
    "\n",
    "model.compile(loss='mean_squared_error', optimizer='adam')\n",
    "model.fit(trainX, trainY, epochs=14, batch_size=1, verbose=2)"
   ]
  },
  {
   "cell_type": "code",
   "execution_count": 66,
   "metadata": {
    "id": "__XqFXTo2O7D"
   },
   "outputs": [],
   "source": [
    "trainPredict = model.predict(trainX)\n",
    "testPredict = model.predict(testX)\n",
    "\n",
    "trainPredict = scaler.inverse_transform(trainPredict)\n",
    "trainY = scaler.inverse_transform([trainY])\n",
    "\n",
    "testPredict = scaler.inverse_transform(testPredict)\n",
    "testY = scaler.inverse_transform([testY])"
   ]
  },
  {
   "cell_type": "markdown",
   "metadata": {
    "id": "f_3-puu62zPw"
   },
   "source": [
    "## Ploting prediction\n",
    "\n"
   ]
  },
  {
   "cell_type": "code",
   "execution_count": 77,
   "metadata": {
    "colab": {
     "base_uri": "https://localhost:8080/",
     "height": 374
    },
    "id": "pxqkWggU2v6a",
    "outputId": "998cd4e2-41f9-41e2-c1f6-888c09c754b6"
   },
   "outputs": [
    {
     "data": {
      "image/png": "[encoded data removed]",
      "text/plain": [
       "<Figure size 864x432 with 1 Axes>"
      ]
     },
     "metadata": {
      "needs_background": "light",
      "tags": []
     },
     "output_type": "display_data"
    }
   ],
   "source": [
    "plt.figure(figsize=(12, 6))\n",
    "\n",
    "trainPredictPlot = np.empty_like(stock_values)\n",
    "trainPredictPlot[:, :] = np.nan\n",
    "trainPredictPlot[look_back:len(trainPredict) + look_back, :] = trainPredict\n",
    "\n",
    "testPredictPlot = np.empty_like(stock_values)\n",
    "testPredictPlot[:, :] = np.nan\n",
    "testPredictPlot[len(trainPredict) + (look_back * 2) + 1:len(stock_values) -\n",
    "                1, :] = testPredict\n",
    "\n",
    "plt.plot(scaler.inverse_transform(stock_values))\n",
    "plt.plot(trainPredictPlot, color='red', label='Train set')\n",
    "plt.plot(testPredictPlot, color='green', label='Test set')\n",
    "\n",
    "plt.legend()\n",
    "plt.show()"
   ]
  },
  {
   "cell_type": "code",
   "execution_count": 75,
   "metadata": {
    "colab": {
     "base_uri": "https://localhost:8080/"
    },
    "id": "j7_HoD_822R5",
    "outputId": "b1b0ddd2-fee9-4121-dd8a-887d085aeec1"
   },
   "outputs": [
    {
     "name": "stdout",
     "output_type": "stream",
     "text": [
      "Root mean square error =  204.48437525014333 RMSE\n",
      "Root mean square error =  564.5933210246053 RMSE\n"
     ]
    }
   ],
   "source": [
    "train_score = math.sqrt(mean_squared_error(trainY[0], trainPredict[:, 0]))\n",
    "print(\"Root mean square error = \", trainScore, \"RMSE\")\n",
    "test_score = math.sqrt(mean_squared_error(testY[0], testPredict[:, 0]))\n",
    "print(\"Root mean square error = \", testScore, \"RMSE\")"
   ]
  },
  {
   "cell_type": "markdown",
   "metadata": {
    "id": "WlHuyHuQ4Uza"
   },
   "source": [
    "# Hybrid model for Numerical and textual analysis"
   ]
  },
  {
   "cell_type": "code",
   "execution_count": 105,
   "metadata": {
    "colab": {
     "base_uri": "https://localhost:8080/",
     "height": 424
    },
    "id": "R9RMUNCM4or4",
    "outputId": "edd2d626-bc3a-45ba-b529-14a0b3ebbf34"
   },
   "outputs": [
    {
     "data": {
      "text/html": [
       "<div>\n",
       "<style scoped>\n",
       "    .dataframe tbody tr th:only-of-type {\n",
       "        vertical-align: middle;\n",
       "    }\n",
       "\n",
       "    .dataframe tbody tr th {\n",
       "        vertical-align: top;\n",
       "    }\n",
       "\n",
       "    .dataframe thead th {\n",
       "        text-align: right;\n",
       "    }\n",
       "</style>\n",
       "<table border=\"1\" class=\"dataframe\">\n",
       "  <thead>\n",
       "    <tr style=\"text-align: right;\">\n",
       "      <th></th>\n",
       "      <th>Date</th>\n",
       "      <th>News</th>\n",
       "    </tr>\n",
       "  </thead>\n",
       "  <tbody>\n",
       "    <tr>\n",
       "      <th>0</th>\n",
       "      <td>2001-01-02</td>\n",
       "      <td>Status quo will not be disturbed at Ayodhya; s...</td>\n",
       "    </tr>\n",
       "    <tr>\n",
       "      <th>1</th>\n",
       "      <td>2001-01-02</td>\n",
       "      <td>Fissures in Hurriyat over Pak visit</td>\n",
       "    </tr>\n",
       "    <tr>\n",
       "      <th>2</th>\n",
       "      <td>2001-01-02</td>\n",
       "      <td>America's unwanted heading for India?</td>\n",
       "    </tr>\n",
       "    <tr>\n",
       "      <th>3</th>\n",
       "      <td>2001-01-02</td>\n",
       "      <td>For bigwigs; it is destination Goa</td>\n",
       "    </tr>\n",
       "    <tr>\n",
       "      <th>4</th>\n",
       "      <td>2001-01-02</td>\n",
       "      <td>Extra buses to clear tourist traffic</td>\n",
       "    </tr>\n",
       "    <tr>\n",
       "      <th>...</th>\n",
       "      <td>...</td>\n",
       "      <td>...</td>\n",
       "    </tr>\n",
       "    <tr>\n",
       "      <th>3424062</th>\n",
       "      <td>2020-12-31</td>\n",
       "      <td>Covid-19: Despite dip in cases; Rajasthan amon...</td>\n",
       "    </tr>\n",
       "    <tr>\n",
       "      <th>3424063</th>\n",
       "      <td>2020-12-31</td>\n",
       "      <td>Covid-19: Despite dip in cases; Rajasthan amon...</td>\n",
       "    </tr>\n",
       "    <tr>\n",
       "      <th>3424064</th>\n",
       "      <td>2020-12-31</td>\n",
       "      <td>Covid-19: Despite dip in cases; Rajasthan amon...</td>\n",
       "    </tr>\n",
       "    <tr>\n",
       "      <th>3424065</th>\n",
       "      <td>2020-12-31</td>\n",
       "      <td>Govt extends deadline for use of FASTag till F...</td>\n",
       "    </tr>\n",
       "    <tr>\n",
       "      <th>3424066</th>\n",
       "      <td>2020-12-31</td>\n",
       "      <td>Celebs plan to party safely and responsibly on...</td>\n",
       "    </tr>\n",
       "  </tbody>\n",
       "</table>\n",
       "<p>3424067 rows × 2 columns</p>\n",
       "</div>"
      ],
      "text/plain": [
       "              Date                                               News\n",
       "0       2001-01-02  Status quo will not be disturbed at Ayodhya; s...\n",
       "1       2001-01-02                Fissures in Hurriyat over Pak visit\n",
       "2       2001-01-02              America's unwanted heading for India?\n",
       "3       2001-01-02                 For bigwigs; it is destination Goa\n",
       "4       2001-01-02               Extra buses to clear tourist traffic\n",
       "...            ...                                                ...\n",
       "3424062 2020-12-31  Covid-19: Despite dip in cases; Rajasthan amon...\n",
       "3424063 2020-12-31  Covid-19: Despite dip in cases; Rajasthan amon...\n",
       "3424064 2020-12-31  Covid-19: Despite dip in cases; Rajasthan amon...\n",
       "3424065 2020-12-31  Govt extends deadline for use of FASTag till F...\n",
       "3424066 2020-12-31  Celebs plan to party safely and responsibly on...\n",
       "\n",
       "[3424067 rows x 2 columns]"
      ]
     },
     "execution_count": 105,
     "metadata": {
      "tags": []
     },
     "output_type": "execute_result"
    }
   ],
   "source": [
    "headlines = pd.read_csv('india-news-headlines.csv',\n",
    "                        usecols=[0, 2],\n",
    "                        names=['Date', 'News'],\n",
    "                        skiprows=1,\n",
    "                        parse_dates=['Date'])\n",
    "headlines"
   ]
  },
  {
   "cell_type": "code",
   "execution_count": 106,
   "metadata": {
    "colab": {
     "base_uri": "https://localhost:8080/"
    },
    "id": "jDyJ_Zgv5GLt",
    "outputId": "9ef9b332-27c5-4761-ef3c-b5d3b8b7e131"
   },
   "outputs": [
    {
     "name": "stdout",
     "output_type": "stream",
     "text": [
      "<class 'pandas.core.frame.DataFrame'>\n",
      "RangeIndex: 3424067 entries, 0 to 3424066\n",
      "Data columns (total 2 columns):\n",
      " #   Column  Dtype         \n",
      "---  ------  -----         \n",
      " 0   Date    datetime64[ns]\n",
      " 1   News    object        \n",
      "dtypes: datetime64[ns](1), object(1)\n",
      "memory usage: 52.2+ MB\n"
     ]
    }
   ],
   "source": [
    "headlines.info()"
   ]
  },
  {
   "cell_type": "code",
   "execution_count": 107,
   "metadata": {
    "colab": {
     "base_uri": "https://localhost:8080/",
     "height": 424
    },
    "id": "oKJ43jOP6LMh",
    "outputId": "9def4ac0-90da-4704-d79b-6936c3d8d9c3"
   },
   "outputs": [
    {
     "data": {
      "text/html": [
       "<div>\n",
       "<style scoped>\n",
       "    .dataframe tbody tr th:only-of-type {\n",
       "        vertical-align: middle;\n",
       "    }\n",
       "\n",
       "    .dataframe tbody tr th {\n",
       "        vertical-align: top;\n",
       "    }\n",
       "\n",
       "    .dataframe thead th {\n",
       "        text-align: right;\n",
       "    }\n",
       "</style>\n",
       "<table border=\"1\" class=\"dataframe\">\n",
       "  <thead>\n",
       "    <tr style=\"text-align: right;\">\n",
       "      <th></th>\n",
       "      <th>Date</th>\n",
       "      <th>News</th>\n",
       "    </tr>\n",
       "  </thead>\n",
       "  <tbody>\n",
       "    <tr>\n",
       "      <th>0</th>\n",
       "      <td>2001-01-02</td>\n",
       "      <td>Status quo will not be disturbed at Ayodhya; s...</td>\n",
       "    </tr>\n",
       "    <tr>\n",
       "      <th>1</th>\n",
       "      <td>2001-01-03</td>\n",
       "      <td>Powerless north India gropes in the dark Think...</td>\n",
       "    </tr>\n",
       "    <tr>\n",
       "      <th>2</th>\n",
       "      <td>2001-01-04</td>\n",
       "      <td>The string that pulled Stephen Hawking to Indi...</td>\n",
       "    </tr>\n",
       "    <tr>\n",
       "      <th>3</th>\n",
       "      <td>2001-01-05</td>\n",
       "      <td>Light combat craft takes India into club class...</td>\n",
       "    </tr>\n",
       "    <tr>\n",
       "      <th>4</th>\n",
       "      <td>2001-01-06</td>\n",
       "      <td>Light combat craft takes India into club class...</td>\n",
       "    </tr>\n",
       "    <tr>\n",
       "      <th>...</th>\n",
       "      <td>...</td>\n",
       "      <td>...</td>\n",
       "    </tr>\n",
       "    <tr>\n",
       "      <th>7257</th>\n",
       "      <td>2020-12-27</td>\n",
       "      <td>#BigInterview! Dhritiman Chatterjee: Nobody da...</td>\n",
       "    </tr>\n",
       "    <tr>\n",
       "      <th>7258</th>\n",
       "      <td>2020-12-28</td>\n",
       "      <td>Horoscope Today; 28 December 2020: Check astro...</td>\n",
       "    </tr>\n",
       "    <tr>\n",
       "      <th>7259</th>\n",
       "      <td>2020-12-29</td>\n",
       "      <td>Man recovers charred remains of 'thief' from h...</td>\n",
       "    </tr>\n",
       "    <tr>\n",
       "      <th>7260</th>\n",
       "      <td>2020-12-30</td>\n",
       "      <td>Numerology Readings 30 December 2020: Predicti...</td>\n",
       "    </tr>\n",
       "    <tr>\n",
       "      <th>7261</th>\n",
       "      <td>2020-12-31</td>\n",
       "      <td>Horoscope Today; 31 December 2020: Check astro...</td>\n",
       "    </tr>\n",
       "  </tbody>\n",
       "</table>\n",
       "<p>7262 rows × 2 columns</p>\n",
       "</div>"
      ],
      "text/plain": [
       "           Date                                               News\n",
       "0    2001-01-02  Status quo will not be disturbed at Ayodhya; s...\n",
       "1    2001-01-03  Powerless north India gropes in the dark Think...\n",
       "2    2001-01-04  The string that pulled Stephen Hawking to Indi...\n",
       "3    2001-01-05  Light combat craft takes India into club class...\n",
       "4    2001-01-06  Light combat craft takes India into club class...\n",
       "...         ...                                                ...\n",
       "7257 2020-12-27  #BigInterview! Dhritiman Chatterjee: Nobody da...\n",
       "7258 2020-12-28  Horoscope Today; 28 December 2020: Check astro...\n",
       "7259 2020-12-29  Man recovers charred remains of 'thief' from h...\n",
       "7260 2020-12-30  Numerology Readings 30 December 2020: Predicti...\n",
       "7261 2020-12-31  Horoscope Today; 31 December 2020: Check astro...\n",
       "\n",
       "[7262 rows x 2 columns]"
      ]
     },
     "execution_count": 107,
     "metadata": {
      "tags": []
     },
     "output_type": "execute_result"
    }
   ],
   "source": [
    "headlines['News'] = headlines.groupby(['Date']).transform(lambda x: ' '.join(x))\n",
    "\n",
    "headlines = headlines.drop_duplicates()\n",
    "headlines.reset_index(inplace=True, drop=True)\n",
    "headlines"
   ]
  },
  {
   "cell_type": "markdown",
   "metadata": {
    "id": "qsLzafQS_r2D"
   },
   "source": [
    "## Sentiment analysis"
   ]
  },
  {
   "cell_type": "code",
   "execution_count": 110,
   "metadata": {
    "id": "1M4Pa21J6tCe"
   },
   "outputs": [],
   "source": [
    "def getSubjectivity(text):\n",
    "    return TextBlob(text).sentiment.subjectivity\n",
    "\n",
    "\n",
    "def getPolarity(text):\n",
    "    return TextBlob(text).sentiment.polarity"
   ]
  },
  {
   "cell_type": "code",
   "execution_count": 113,
   "metadata": {
    "colab": {
     "base_uri": "https://localhost:8080/",
     "height": 642
    },
    "id": "ov32cHhR_rag",
    "outputId": "24d96a93-2669-4815-ecce-fd29785b57ee"
   },
   "outputs": [
    {
     "name": "stderr",
     "output_type": "stream",
     "text": [
      "/usr/local/lib/python3.7/dist-packages/ipykernel_launcher.py:1: SettingWithCopyWarning: \n",
      "A value is trying to be set on a copy of a slice from a DataFrame.\n",
      "Try using .loc[row_indexer,col_indexer] = value instead\n",
      "\n",
      "See the caveats in the documentation: https://pandas.pydata.org/pandas-docs/stable/user_guide/indexing.html#returning-a-view-versus-a-copy\n",
      "  \"\"\"Entry point for launching an IPython kernel.\n",
      "/usr/local/lib/python3.7/dist-packages/ipykernel_launcher.py:2: SettingWithCopyWarning: \n",
      "A value is trying to be set on a copy of a slice from a DataFrame.\n",
      "Try using .loc[row_indexer,col_indexer] = value instead\n",
      "\n",
      "See the caveats in the documentation: https://pandas.pydata.org/pandas-docs/stable/user_guide/indexing.html#returning-a-view-versus-a-copy\n",
      "  \n"
     ]
    },
    {
     "data": {
      "text/html": [
       "<div>\n",
       "<style scoped>\n",
       "    .dataframe tbody tr th:only-of-type {\n",
       "        vertical-align: middle;\n",
       "    }\n",
       "\n",
       "    .dataframe tbody tr th {\n",
       "        vertical-align: top;\n",
       "    }\n",
       "\n",
       "    .dataframe thead th {\n",
       "        text-align: right;\n",
       "    }\n",
       "</style>\n",
       "<table border=\"1\" class=\"dataframe\">\n",
       "  <thead>\n",
       "    <tr style=\"text-align: right;\">\n",
       "      <th></th>\n",
       "      <th>Date</th>\n",
       "      <th>News</th>\n",
       "      <th>Subjectivity</th>\n",
       "      <th>Polarity</th>\n",
       "    </tr>\n",
       "  </thead>\n",
       "  <tbody>\n",
       "    <tr>\n",
       "      <th>0</th>\n",
       "      <td>2001-01-02</td>\n",
       "      <td>Status quo will not be disturbed at Ayodhya; s...</td>\n",
       "      <td>0.282333</td>\n",
       "      <td>0.151333</td>\n",
       "    </tr>\n",
       "    <tr>\n",
       "      <th>1</th>\n",
       "      <td>2001-01-03</td>\n",
       "      <td>Powerless north India gropes in the dark Think...</td>\n",
       "      <td>0.407692</td>\n",
       "      <td>0.088462</td>\n",
       "    </tr>\n",
       "    <tr>\n",
       "      <th>2</th>\n",
       "      <td>2001-01-04</td>\n",
       "      <td>The string that pulled Stephen Hawking to Indi...</td>\n",
       "      <td>0.446847</td>\n",
       "      <td>0.087961</td>\n",
       "    </tr>\n",
       "    <tr>\n",
       "      <th>3</th>\n",
       "      <td>2001-01-05</td>\n",
       "      <td>Light combat craft takes India into club class...</td>\n",
       "      <td>0.476612</td>\n",
       "      <td>0.262024</td>\n",
       "    </tr>\n",
       "    <tr>\n",
       "      <th>4</th>\n",
       "      <td>2001-01-06</td>\n",
       "      <td>Light combat craft takes India into club class...</td>\n",
       "      <td>0.439394</td>\n",
       "      <td>0.248485</td>\n",
       "    </tr>\n",
       "    <tr>\n",
       "      <th>...</th>\n",
       "      <td>...</td>\n",
       "      <td>...</td>\n",
       "      <td>...</td>\n",
       "      <td>...</td>\n",
       "    </tr>\n",
       "    <tr>\n",
       "      <th>7257</th>\n",
       "      <td>2020-12-27</td>\n",
       "      <td>#BigInterview! Dhritiman Chatterjee: Nobody da...</td>\n",
       "      <td>0.395808</td>\n",
       "      <td>0.035886</td>\n",
       "    </tr>\n",
       "    <tr>\n",
       "      <th>7258</th>\n",
       "      <td>2020-12-28</td>\n",
       "      <td>Horoscope Today; 28 December 2020: Check astro...</td>\n",
       "      <td>0.412945</td>\n",
       "      <td>0.070517</td>\n",
       "    </tr>\n",
       "    <tr>\n",
       "      <th>7259</th>\n",
       "      <td>2020-12-29</td>\n",
       "      <td>Man recovers charred remains of 'thief' from h...</td>\n",
       "      <td>0.424021</td>\n",
       "      <td>0.061210</td>\n",
       "    </tr>\n",
       "    <tr>\n",
       "      <th>7260</th>\n",
       "      <td>2020-12-30</td>\n",
       "      <td>Numerology Readings 30 December 2020: Predicti...</td>\n",
       "      <td>0.441660</td>\n",
       "      <td>0.043496</td>\n",
       "    </tr>\n",
       "    <tr>\n",
       "      <th>7261</th>\n",
       "      <td>2020-12-31</td>\n",
       "      <td>Horoscope Today; 31 December 2020: Check astro...</td>\n",
       "      <td>0.406220</td>\n",
       "      <td>0.091373</td>\n",
       "    </tr>\n",
       "  </tbody>\n",
       "</table>\n",
       "<p>7262 rows × 4 columns</p>\n",
       "</div>"
      ],
      "text/plain": [
       "           Date  ...  Polarity\n",
       "0    2001-01-02  ...  0.151333\n",
       "1    2001-01-03  ...  0.088462\n",
       "2    2001-01-04  ...  0.087961\n",
       "3    2001-01-05  ...  0.262024\n",
       "4    2001-01-06  ...  0.248485\n",
       "...         ...  ...       ...\n",
       "7257 2020-12-27  ...  0.035886\n",
       "7258 2020-12-28  ...  0.070517\n",
       "7259 2020-12-29  ...  0.061210\n",
       "7260 2020-12-30  ...  0.043496\n",
       "7261 2020-12-31  ...  0.091373\n",
       "\n",
       "[7262 rows x 4 columns]"
      ]
     },
     "execution_count": 113,
     "metadata": {
      "tags": []
     },
     "output_type": "execute_result"
    }
   ],
   "source": [
    "headlines['Subjectivity'] = headlines['News'].apply(getSubjectivity)\n",
    "headlines['Polarity'] = headlines['News'].apply(getPolarity)\n",
    "headlines"
   ]
  },
  {
   "cell_type": "code",
   "execution_count": 114,
   "metadata": {
    "colab": {
     "base_uri": "https://localhost:8080/",
     "height": 424
    },
    "id": "gLkl0aXkADAy",
    "outputId": "d4ee22b8-69dd-469c-a0d4-3b981e1ca087"
   },
   "outputs": [
    {
     "data": {
      "text/html": [
       "<div>\n",
       "<style scoped>\n",
       "    .dataframe tbody tr th:only-of-type {\n",
       "        vertical-align: middle;\n",
       "    }\n",
       "\n",
       "    .dataframe tbody tr th {\n",
       "        vertical-align: top;\n",
       "    }\n",
       "\n",
       "    .dataframe thead th {\n",
       "        text-align: right;\n",
       "    }\n",
       "</style>\n",
       "<table border=\"1\" class=\"dataframe\">\n",
       "  <thead>\n",
       "    <tr style=\"text-align: right;\">\n",
       "      <th></th>\n",
       "      <th>Date</th>\n",
       "      <th>News</th>\n",
       "      <th>Subjectivity</th>\n",
       "      <th>Polarity</th>\n",
       "    </tr>\n",
       "  </thead>\n",
       "  <tbody>\n",
       "    <tr>\n",
       "      <th>0</th>\n",
       "      <td>2001-01-02</td>\n",
       "      <td>Status quo will not be disturbed at Ayodhya; s...</td>\n",
       "      <td>0.282333</td>\n",
       "      <td>0.151333</td>\n",
       "    </tr>\n",
       "    <tr>\n",
       "      <th>1</th>\n",
       "      <td>2001-01-03</td>\n",
       "      <td>Powerless north India gropes in the dark Think...</td>\n",
       "      <td>0.407692</td>\n",
       "      <td>0.088462</td>\n",
       "    </tr>\n",
       "    <tr>\n",
       "      <th>2</th>\n",
       "      <td>2001-01-04</td>\n",
       "      <td>The string that pulled Stephen Hawking to Indi...</td>\n",
       "      <td>0.446847</td>\n",
       "      <td>0.087961</td>\n",
       "    </tr>\n",
       "    <tr>\n",
       "      <th>3</th>\n",
       "      <td>2001-01-05</td>\n",
       "      <td>Light combat craft takes India into club class...</td>\n",
       "      <td>0.476612</td>\n",
       "      <td>0.262024</td>\n",
       "    </tr>\n",
       "    <tr>\n",
       "      <th>4</th>\n",
       "      <td>2001-01-06</td>\n",
       "      <td>Light combat craft takes India into club class...</td>\n",
       "      <td>0.439394</td>\n",
       "      <td>0.248485</td>\n",
       "    </tr>\n",
       "    <tr>\n",
       "      <th>...</th>\n",
       "      <td>...</td>\n",
       "      <td>...</td>\n",
       "      <td>...</td>\n",
       "      <td>...</td>\n",
       "    </tr>\n",
       "    <tr>\n",
       "      <th>7257</th>\n",
       "      <td>2020-12-27</td>\n",
       "      <td>#BigInterview! Dhritiman Chatterjee: Nobody da...</td>\n",
       "      <td>0.395808</td>\n",
       "      <td>0.035886</td>\n",
       "    </tr>\n",
       "    <tr>\n",
       "      <th>7258</th>\n",
       "      <td>2020-12-28</td>\n",
       "      <td>Horoscope Today; 28 December 2020: Check astro...</td>\n",
       "      <td>0.412945</td>\n",
       "      <td>0.070517</td>\n",
       "    </tr>\n",
       "    <tr>\n",
       "      <th>7259</th>\n",
       "      <td>2020-12-29</td>\n",
       "      <td>Man recovers charred remains of 'thief' from h...</td>\n",
       "      <td>0.424021</td>\n",
       "      <td>0.061210</td>\n",
       "    </tr>\n",
       "    <tr>\n",
       "      <th>7260</th>\n",
       "      <td>2020-12-30</td>\n",
       "      <td>Numerology Readings 30 December 2020: Predicti...</td>\n",
       "      <td>0.441660</td>\n",
       "      <td>0.043496</td>\n",
       "    </tr>\n",
       "    <tr>\n",
       "      <th>7261</th>\n",
       "      <td>2020-12-31</td>\n",
       "      <td>Horoscope Today; 31 December 2020: Check astro...</td>\n",
       "      <td>0.406220</td>\n",
       "      <td>0.091373</td>\n",
       "    </tr>\n",
       "  </tbody>\n",
       "</table>\n",
       "<p>7262 rows × 4 columns</p>\n",
       "</div>"
      ],
      "text/plain": [
       "           Date  ...  Polarity\n",
       "0    2001-01-02  ...  0.151333\n",
       "1    2001-01-03  ...  0.088462\n",
       "2    2001-01-04  ...  0.087961\n",
       "3    2001-01-05  ...  0.262024\n",
       "4    2001-01-06  ...  0.248485\n",
       "...         ...  ...       ...\n",
       "7257 2020-12-27  ...  0.035886\n",
       "7258 2020-12-28  ...  0.070517\n",
       "7259 2020-12-29  ...  0.061210\n",
       "7260 2020-12-30  ...  0.043496\n",
       "7261 2020-12-31  ...  0.091373\n",
       "\n",
       "[7262 rows x 4 columns]"
      ]
     },
     "execution_count": 114,
     "metadata": {
      "tags": []
     },
     "output_type": "execute_result"
    }
   ],
   "source": [
    "headlines"
   ]
  },
  {
   "cell_type": "markdown",
   "metadata": {
    "id": "G4ynRRyoBUs7"
   },
   "source": [
    "### Visualizing distribution"
   ]
  },
  {
   "cell_type": "code",
   "execution_count": 125,
   "metadata": {
    "colab": {
     "base_uri": "https://localhost:8080/",
     "height": 408
    },
    "id": "ztRAwsuXEW7X",
    "outputId": "57f55c82-22f2-4c56-e26d-9b82e1d5ff6a"
   },
   "outputs": [
    {
     "data": {
      "text/plain": [
       "<matplotlib.axes._subplots.AxesSubplot at 0x7f17c53d98d0>"
      ]
     },
     "execution_count": 125,
     "metadata": {
      "tags": []
     },
     "output_type": "execute_result"
    },
    {
     "data": {
      "image/png": "[encoded data removed]",
      "text/plain": [
       "<Figure size 720x432 with 1 Axes>"
      ]
     },
     "metadata": {
      "needs_background": "light",
      "tags": []
     },
     "output_type": "display_data"
    }
   ],
   "source": [
    "plt.figure(figsize=(10, 6))\n",
    "plt.title('Subjectivity of text')\n",
    "headlines['Subjectivity'].hist(color='blue', bins=20)"
   ]
  },
  {
   "cell_type": "code",
   "execution_count": 124,
   "metadata": {
    "colab": {
     "base_uri": "https://localhost:8080/",
     "height": 408
    },
    "id": "SV6D-8KEEVz5",
    "outputId": "834a4ae7-c1a1-4d5c-9c6d-eea60b56bc59"
   },
   "outputs": [
    {
     "data": {
      "text/plain": [
       "<matplotlib.axes._subplots.AxesSubplot at 0x7f17c4c4f210>"
      ]
     },
     "execution_count": 124,
     "metadata": {
      "tags": []
     },
     "output_type": "execute_result"
    },
    {
     "data": {
      "image/png": "[encoded data removed]",
      "text/plain": [
       "<Figure size 720x432 with 1 Axes>"
      ]
     },
     "metadata": {
      "needs_background": "light",
      "tags": []
     },
     "output_type": "display_data"
    }
   ],
   "source": [
    "plt.figure(figsize=(10, 6))\n",
    "plt.title('Polarity of text')\n",
    "headlines['Polarity'].hist(color='blue', bins=20)"
   ]
  },
  {
   "cell_type": "markdown",
   "metadata": {
    "id": "R0EVVu_jFNHF"
   },
   "source": [
    "### Performing sentiment analysis"
   ]
  },
  {
   "cell_type": "code",
   "execution_count": 154,
   "metadata": {
    "id": "gh7vI-3yoCuR"
   },
   "outputs": [],
   "source": [
    "sia = SentimentIntensityAnalyzer()\n",
    "\n",
    "scores = np.vectorize(sia.polarity_scores)\n",
    "\n",
    "arr = scores(headlines['News'][:4000])\n",
    "arr1 = scores(headlines['News'][4000:])\n",
    "arr2 = np.concatenate((arr,arr1))"
   ]
  },
  {
   "cell_type": "code",
   "execution_count": 159,
   "metadata": {
    "colab": {
     "base_uri": "https://localhost:8080/",
     "height": 860
    },
    "id": "c30R2r6aiIAo",
    "outputId": "72cc3e84-92b5-4479-b451-15ffbb7cd8b5"
   },
   "outputs": [
    {
     "name": "stderr",
     "output_type": "stream",
     "text": [
      "/usr/local/lib/python3.7/dist-packages/ipykernel_launcher.py:1: SettingWithCopyWarning: \n",
      "A value is trying to be set on a copy of a slice from a DataFrame.\n",
      "Try using .loc[row_indexer,col_indexer] = value instead\n",
      "\n",
      "See the caveats in the documentation: https://pandas.pydata.org/pandas-docs/stable/user_guide/indexing.html#returning-a-view-versus-a-copy\n",
      "  \"\"\"Entry point for launching an IPython kernel.\n",
      "/usr/local/lib/python3.7/dist-packages/ipykernel_launcher.py:2: SettingWithCopyWarning: \n",
      "A value is trying to be set on a copy of a slice from a DataFrame.\n",
      "Try using .loc[row_indexer,col_indexer] = value instead\n",
      "\n",
      "See the caveats in the documentation: https://pandas.pydata.org/pandas-docs/stable/user_guide/indexing.html#returning-a-view-versus-a-copy\n",
      "  \n",
      "/usr/local/lib/python3.7/dist-packages/ipykernel_launcher.py:3: SettingWithCopyWarning: \n",
      "A value is trying to be set on a copy of a slice from a DataFrame.\n",
      "Try using .loc[row_indexer,col_indexer] = value instead\n",
      "\n",
      "See the caveats in the documentation: https://pandas.pydata.org/pandas-docs/stable/user_guide/indexing.html#returning-a-view-versus-a-copy\n",
      "  This is separate from the ipykernel package so we can avoid doing imports until\n",
      "/usr/local/lib/python3.7/dist-packages/ipykernel_launcher.py:4: SettingWithCopyWarning: \n",
      "A value is trying to be set on a copy of a slice from a DataFrame.\n",
      "Try using .loc[row_indexer,col_indexer] = value instead\n",
      "\n",
      "See the caveats in the documentation: https://pandas.pydata.org/pandas-docs/stable/user_guide/indexing.html#returning-a-view-versus-a-copy\n",
      "  after removing the cwd from sys.path.\n"
     ]
    },
    {
     "data": {
      "text/html": [
       "<div>\n",
       "<style scoped>\n",
       "    .dataframe tbody tr th:only-of-type {\n",
       "        vertical-align: middle;\n",
       "    }\n",
       "\n",
       "    .dataframe tbody tr th {\n",
       "        vertical-align: top;\n",
       "    }\n",
       "\n",
       "    .dataframe thead th {\n",
       "        text-align: right;\n",
       "    }\n",
       "</style>\n",
       "<table border=\"1\" class=\"dataframe\">\n",
       "  <thead>\n",
       "    <tr style=\"text-align: right;\">\n",
       "      <th></th>\n",
       "      <th>Date</th>\n",
       "      <th>News</th>\n",
       "      <th>Subjectivity</th>\n",
       "      <th>Polarity</th>\n",
       "      <th>Compound</th>\n",
       "      <th>Negative</th>\n",
       "      <th>Neutral</th>\n",
       "      <th>Positive</th>\n",
       "    </tr>\n",
       "  </thead>\n",
       "  <tbody>\n",
       "    <tr>\n",
       "      <th>0</th>\n",
       "      <td>2001-01-02</td>\n",
       "      <td>Status quo will not be disturbed at Ayodhya; s...</td>\n",
       "      <td>0.282333</td>\n",
       "      <td>0.151333</td>\n",
       "      <td>-0.9811</td>\n",
       "      <td>0.122</td>\n",
       "      <td>0.807</td>\n",
       "      <td>0.071</td>\n",
       "    </tr>\n",
       "    <tr>\n",
       "      <th>1</th>\n",
       "      <td>2001-01-03</td>\n",
       "      <td>Powerless north India gropes in the dark Think...</td>\n",
       "      <td>0.407692</td>\n",
       "      <td>0.088462</td>\n",
       "      <td>-0.2640</td>\n",
       "      <td>0.122</td>\n",
       "      <td>0.766</td>\n",
       "      <td>0.111</td>\n",
       "    </tr>\n",
       "    <tr>\n",
       "      <th>2</th>\n",
       "      <td>2001-01-04</td>\n",
       "      <td>The string that pulled Stephen Hawking to Indi...</td>\n",
       "      <td>0.446847</td>\n",
       "      <td>0.087961</td>\n",
       "      <td>0.8738</td>\n",
       "      <td>0.100</td>\n",
       "      <td>0.797</td>\n",
       "      <td>0.103</td>\n",
       "    </tr>\n",
       "    <tr>\n",
       "      <th>3</th>\n",
       "      <td>2001-01-05</td>\n",
       "      <td>Light combat craft takes India into club class...</td>\n",
       "      <td>0.476612</td>\n",
       "      <td>0.262024</td>\n",
       "      <td>0.9633</td>\n",
       "      <td>0.124</td>\n",
       "      <td>0.722</td>\n",
       "      <td>0.154</td>\n",
       "    </tr>\n",
       "    <tr>\n",
       "      <th>4</th>\n",
       "      <td>2001-01-06</td>\n",
       "      <td>Light combat craft takes India into club class...</td>\n",
       "      <td>0.439394</td>\n",
       "      <td>0.248485</td>\n",
       "      <td>-0.4215</td>\n",
       "      <td>0.152</td>\n",
       "      <td>0.704</td>\n",
       "      <td>0.143</td>\n",
       "    </tr>\n",
       "    <tr>\n",
       "      <th>...</th>\n",
       "      <td>...</td>\n",
       "      <td>...</td>\n",
       "      <td>...</td>\n",
       "      <td>...</td>\n",
       "      <td>...</td>\n",
       "      <td>...</td>\n",
       "      <td>...</td>\n",
       "      <td>...</td>\n",
       "    </tr>\n",
       "    <tr>\n",
       "      <th>7257</th>\n",
       "      <td>2020-12-27</td>\n",
       "      <td>#BigInterview! Dhritiman Chatterjee: Nobody da...</td>\n",
       "      <td>0.395808</td>\n",
       "      <td>0.035886</td>\n",
       "      <td>-0.9997</td>\n",
       "      <td>0.126</td>\n",
       "      <td>0.798</td>\n",
       "      <td>0.076</td>\n",
       "    </tr>\n",
       "    <tr>\n",
       "      <th>7258</th>\n",
       "      <td>2020-12-28</td>\n",
       "      <td>Horoscope Today; 28 December 2020: Check astro...</td>\n",
       "      <td>0.412945</td>\n",
       "      <td>0.070517</td>\n",
       "      <td>-0.9998</td>\n",
       "      <td>0.137</td>\n",
       "      <td>0.771</td>\n",
       "      <td>0.092</td>\n",
       "    </tr>\n",
       "    <tr>\n",
       "      <th>7259</th>\n",
       "      <td>2020-12-29</td>\n",
       "      <td>Man recovers charred remains of 'thief' from h...</td>\n",
       "      <td>0.424021</td>\n",
       "      <td>0.061210</td>\n",
       "      <td>-0.9999</td>\n",
       "      <td>0.148</td>\n",
       "      <td>0.758</td>\n",
       "      <td>0.094</td>\n",
       "    </tr>\n",
       "    <tr>\n",
       "      <th>7260</th>\n",
       "      <td>2020-12-30</td>\n",
       "      <td>Numerology Readings 30 December 2020: Predicti...</td>\n",
       "      <td>0.441660</td>\n",
       "      <td>0.043496</td>\n",
       "      <td>-0.9999</td>\n",
       "      <td>0.141</td>\n",
       "      <td>0.780</td>\n",
       "      <td>0.079</td>\n",
       "    </tr>\n",
       "    <tr>\n",
       "      <th>7261</th>\n",
       "      <td>2020-12-31</td>\n",
       "      <td>Horoscope Today; 31 December 2020: Check astro...</td>\n",
       "      <td>0.406220</td>\n",
       "      <td>0.091373</td>\n",
       "      <td>-0.9998</td>\n",
       "      <td>0.136</td>\n",
       "      <td>0.766</td>\n",
       "      <td>0.098</td>\n",
       "    </tr>\n",
       "  </tbody>\n",
       "</table>\n",
       "<p>7262 rows × 8 columns</p>\n",
       "</div>"
      ],
      "text/plain": [
       "           Date  ... Positive\n",
       "0    2001-01-02  ...    0.071\n",
       "1    2001-01-03  ...    0.111\n",
       "2    2001-01-04  ...    0.103\n",
       "3    2001-01-05  ...    0.154\n",
       "4    2001-01-06  ...    0.143\n",
       "...         ...  ...      ...\n",
       "7257 2020-12-27  ...    0.076\n",
       "7258 2020-12-28  ...    0.092\n",
       "7259 2020-12-29  ...    0.094\n",
       "7260 2020-12-30  ...    0.079\n",
       "7261 2020-12-31  ...    0.098\n",
       "\n",
       "[7262 rows x 8 columns]"
      ]
     },
     "execution_count": 159,
     "metadata": {
      "tags": []
     },
     "output_type": "execute_result"
    }
   ],
   "source": [
    "headlines['Compound'] = [i['compound'] for i in arr2]\n",
    "headlines['Negative'] = [i['neg'] for i in arr2]\n",
    "headlines['Neutral'] = [i['neu'] for i in arr2]\n",
    "headlines['Positive'] = [i['pos'] for i in arr2]\n",
    "headlines"
   ]
  },
  {
   "cell_type": "markdown",
   "metadata": {
    "id": "1nFANgpwGc-O"
   },
   "source": [
    "## Getting data ready for hybrid model"
   ]
  },
  {
   "cell_type": "code",
   "execution_count": 165,
   "metadata": {
    "colab": {
     "base_uri": "https://localhost:8080/",
     "height": 1000
    },
    "id": "jQ0aC0cUqPYj",
    "outputId": "5de53fcf-bdda-4af4-b956-9e9245eacf79"
   },
   "outputs": [
    {
     "data": {
      "text/html": [
       "<div>\n",
       "<style scoped>\n",
       "    .dataframe tbody tr th:only-of-type {\n",
       "        vertical-align: middle;\n",
       "    }\n",
       "\n",
       "    .dataframe tbody tr th {\n",
       "        vertical-align: top;\n",
       "    }\n",
       "\n",
       "    .dataframe thead th {\n",
       "        text-align: right;\n",
       "    }\n",
       "</style>\n",
       "<table border=\"1\" class=\"dataframe\">\n",
       "  <thead>\n",
       "    <tr style=\"text-align: right;\">\n",
       "      <th></th>\n",
       "      <th>Date</th>\n",
       "      <th>Open</th>\n",
       "      <th>High</th>\n",
       "      <th>Low</th>\n",
       "      <th>Close</th>\n",
       "      <th>Adj Close</th>\n",
       "      <th>Volume</th>\n",
       "      <th>Return</th>\n",
       "      <th>News</th>\n",
       "      <th>Subjectivity</th>\n",
       "      <th>Polarity</th>\n",
       "      <th>Compound</th>\n",
       "      <th>Negative</th>\n",
       "      <th>Neutral</th>\n",
       "      <th>Positive</th>\n",
       "    </tr>\n",
       "  </thead>\n",
       "  <tbody>\n",
       "    <tr>\n",
       "      <th>0</th>\n",
       "      <td>2001-01-03</td>\n",
       "      <td>3977.580078</td>\n",
       "      <td>4067.659912</td>\n",
       "      <td>3977.580078</td>\n",
       "      <td>4060.020020</td>\n",
       "      <td>4060.020020</td>\n",
       "      <td>0.0</td>\n",
       "      <td>0.010237</td>\n",
       "      <td>Powerless north India gropes in the dark Think...</td>\n",
       "      <td>0.407692</td>\n",
       "      <td>0.088462</td>\n",
       "      <td>-0.2640</td>\n",
       "      <td>0.122</td>\n",
       "      <td>0.766</td>\n",
       "      <td>0.111</td>\n",
       "    </tr>\n",
       "    <tr>\n",
       "      <th>1</th>\n",
       "      <td>2001-01-04</td>\n",
       "      <td>4180.970215</td>\n",
       "      <td>4180.970215</td>\n",
       "      <td>4109.549805</td>\n",
       "      <td>4115.370117</td>\n",
       "      <td>4115.370117</td>\n",
       "      <td>0.0</td>\n",
       "      <td>0.013633</td>\n",
       "      <td>The string that pulled Stephen Hawking to Indi...</td>\n",
       "      <td>0.446847</td>\n",
       "      <td>0.087961</td>\n",
       "      <td>0.8738</td>\n",
       "      <td>0.100</td>\n",
       "      <td>0.797</td>\n",
       "      <td>0.103</td>\n",
       "    </tr>\n",
       "    <tr>\n",
       "      <th>2</th>\n",
       "      <td>2001-01-05</td>\n",
       "      <td>4116.339844</td>\n",
       "      <td>4195.009766</td>\n",
       "      <td>4115.350098</td>\n",
       "      <td>4183.729980</td>\n",
       "      <td>4183.729980</td>\n",
       "      <td>0.0</td>\n",
       "      <td>0.016611</td>\n",
       "      <td>Light combat craft takes India into club class...</td>\n",
       "      <td>0.476612</td>\n",
       "      <td>0.262024</td>\n",
       "      <td>0.9633</td>\n",
       "      <td>0.124</td>\n",
       "      <td>0.722</td>\n",
       "      <td>0.154</td>\n",
       "    </tr>\n",
       "    <tr>\n",
       "      <th>3</th>\n",
       "      <td>2001-01-08</td>\n",
       "      <td>4164.759766</td>\n",
       "      <td>4206.720215</td>\n",
       "      <td>4101.529785</td>\n",
       "      <td>4120.430176</td>\n",
       "      <td>4120.430176</td>\n",
       "      <td>0.0</td>\n",
       "      <td>-0.015130</td>\n",
       "      <td>Sangh Parivar; Babri panel up the ante Frontru...</td>\n",
       "      <td>0.414653</td>\n",
       "      <td>-0.019214</td>\n",
       "      <td>-0.9779</td>\n",
       "      <td>0.121</td>\n",
       "      <td>0.812</td>\n",
       "      <td>0.066</td>\n",
       "    </tr>\n",
       "    <tr>\n",
       "      <th>4</th>\n",
       "      <td>2001-01-09</td>\n",
       "      <td>4114.740234</td>\n",
       "      <td>4166.839844</td>\n",
       "      <td>4101.009766</td>\n",
       "      <td>4125.310059</td>\n",
       "      <td>4125.310059</td>\n",
       "      <td>0.0</td>\n",
       "      <td>0.001184</td>\n",
       "      <td>Financier Bharat Shah held for alleged links w...</td>\n",
       "      <td>0.501934</td>\n",
       "      <td>-0.003837</td>\n",
       "      <td>-0.9948</td>\n",
       "      <td>0.138</td>\n",
       "      <td>0.809</td>\n",
       "      <td>0.053</td>\n",
       "    </tr>\n",
       "    <tr>\n",
       "      <th>...</th>\n",
       "      <td>...</td>\n",
       "      <td>...</td>\n",
       "      <td>...</td>\n",
       "      <td>...</td>\n",
       "      <td>...</td>\n",
       "      <td>...</td>\n",
       "      <td>...</td>\n",
       "      <td>...</td>\n",
       "      <td>...</td>\n",
       "      <td>...</td>\n",
       "      <td>...</td>\n",
       "      <td>...</td>\n",
       "      <td>...</td>\n",
       "      <td>...</td>\n",
       "      <td>...</td>\n",
       "    </tr>\n",
       "    <tr>\n",
       "      <th>4887</th>\n",
       "      <td>2020-12-24</td>\n",
       "      <td>46743.488281</td>\n",
       "      <td>47053.398438</td>\n",
       "      <td>46539.019531</td>\n",
       "      <td>46973.539063</td>\n",
       "      <td>46973.539063</td>\n",
       "      <td>13700.0</td>\n",
       "      <td>0.011398</td>\n",
       "      <td>How to set the mood for sex during cold winter...</td>\n",
       "      <td>0.390942</td>\n",
       "      <td>0.048166</td>\n",
       "      <td>-0.9988</td>\n",
       "      <td>0.092</td>\n",
       "      <td>0.842</td>\n",
       "      <td>0.066</td>\n",
       "    </tr>\n",
       "    <tr>\n",
       "      <th>4888</th>\n",
       "      <td>2020-12-28</td>\n",
       "      <td>47153.589844</td>\n",
       "      <td>47406.718750</td>\n",
       "      <td>47148.238281</td>\n",
       "      <td>47353.750000</td>\n",
       "      <td>47353.750000</td>\n",
       "      <td>9600.0</td>\n",
       "      <td>0.008094</td>\n",
       "      <td>Horoscope Today; 28 December 2020: Check astro...</td>\n",
       "      <td>0.412945</td>\n",
       "      <td>0.070517</td>\n",
       "      <td>-0.9998</td>\n",
       "      <td>0.137</td>\n",
       "      <td>0.771</td>\n",
       "      <td>0.092</td>\n",
       "    </tr>\n",
       "    <tr>\n",
       "      <th>4889</th>\n",
       "      <td>2020-12-29</td>\n",
       "      <td>47466.621094</td>\n",
       "      <td>47714.550781</td>\n",
       "      <td>47361.898438</td>\n",
       "      <td>47613.078125</td>\n",
       "      <td>47613.078125</td>\n",
       "      <td>12800.0</td>\n",
       "      <td>0.005476</td>\n",
       "      <td>Man recovers charred remains of 'thief' from h...</td>\n",
       "      <td>0.424021</td>\n",
       "      <td>0.061210</td>\n",
       "      <td>-0.9999</td>\n",
       "      <td>0.148</td>\n",
       "      <td>0.758</td>\n",
       "      <td>0.094</td>\n",
       "    </tr>\n",
       "    <tr>\n",
       "      <th>4890</th>\n",
       "      <td>2020-12-30</td>\n",
       "      <td>47789.031250</td>\n",
       "      <td>47807.851563</td>\n",
       "      <td>47358.359375</td>\n",
       "      <td>47746.218750</td>\n",
       "      <td>47746.218750</td>\n",
       "      <td>15600.0</td>\n",
       "      <td>0.002796</td>\n",
       "      <td>Numerology Readings 30 December 2020: Predicti...</td>\n",
       "      <td>0.441660</td>\n",
       "      <td>0.043496</td>\n",
       "      <td>-0.9999</td>\n",
       "      <td>0.141</td>\n",
       "      <td>0.780</td>\n",
       "      <td>0.079</td>\n",
       "    </tr>\n",
       "    <tr>\n",
       "      <th>4891</th>\n",
       "      <td>2020-12-31</td>\n",
       "      <td>47753.109375</td>\n",
       "      <td>47896.968750</td>\n",
       "      <td>47602.121094</td>\n",
       "      <td>47751.328125</td>\n",
       "      <td>47751.328125</td>\n",
       "      <td>13900.0</td>\n",
       "      <td>0.000107</td>\n",
       "      <td>Horoscope Today; 31 December 2020: Check astro...</td>\n",
       "      <td>0.406220</td>\n",
       "      <td>0.091373</td>\n",
       "      <td>-0.9998</td>\n",
       "      <td>0.136</td>\n",
       "      <td>0.766</td>\n",
       "      <td>0.098</td>\n",
       "    </tr>\n",
       "  </tbody>\n",
       "</table>\n",
       "<p>4892 rows × 15 columns</p>\n",
       "</div>"
      ],
      "text/plain": [
       "           Date          Open          High  ...  Negative  Neutral  Positive\n",
       "0    2001-01-03   3977.580078   4067.659912  ...     0.122    0.766     0.111\n",
       "1    2001-01-04   4180.970215   4180.970215  ...     0.100    0.797     0.103\n",
       "2    2001-01-05   4116.339844   4195.009766  ...     0.124    0.722     0.154\n",
       "3    2001-01-08   4164.759766   4206.720215  ...     0.121    0.812     0.066\n",
       "4    2001-01-09   4114.740234   4166.839844  ...     0.138    0.809     0.053\n",
       "...         ...           ...           ...  ...       ...      ...       ...\n",
       "4887 2020-12-24  46743.488281  47053.398438  ...     0.092    0.842     0.066\n",
       "4888 2020-12-28  47153.589844  47406.718750  ...     0.137    0.771     0.092\n",
       "4889 2020-12-29  47466.621094  47714.550781  ...     0.148    0.758     0.094\n",
       "4890 2020-12-30  47789.031250  47807.851563  ...     0.141    0.780     0.079\n",
       "4891 2020-12-31  47753.109375  47896.968750  ...     0.136    0.766     0.098\n",
       "\n",
       "[4892 rows x 15 columns]"
      ]
     },
     "execution_count": 165,
     "metadata": {
      "tags": []
     },
     "output_type": "execute_result"
    }
   ],
   "source": [
    "df_merge = pd.merge(stocks, headlines, how='inner', on='Date')\n",
    "df_merge"
   ]
  },
  {
   "cell_type": "code",
   "execution_count": 167,
   "metadata": {
    "colab": {
     "base_uri": "https://localhost:8080/",
     "height": 424
    },
    "id": "DF7Xyjw3edhn",
    "outputId": "8ecefa62-c89e-4594-ae76-786eeafe9d8e"
   },
   "outputs": [
    {
     "data": {
      "text/html": [
       "<div>\n",
       "<style scoped>\n",
       "    .dataframe tbody tr th:only-of-type {\n",
       "        vertical-align: middle;\n",
       "    }\n",
       "\n",
       "    .dataframe tbody tr th {\n",
       "        vertical-align: top;\n",
       "    }\n",
       "\n",
       "    .dataframe thead th {\n",
       "        text-align: right;\n",
       "    }\n",
       "</style>\n",
       "<table border=\"1\" class=\"dataframe\">\n",
       "  <thead>\n",
       "    <tr style=\"text-align: right;\">\n",
       "      <th></th>\n",
       "      <th>Close</th>\n",
       "      <th>Subjectivity</th>\n",
       "      <th>Polarity</th>\n",
       "      <th>Compound</th>\n",
       "      <th>Negative</th>\n",
       "      <th>Neutral</th>\n",
       "      <th>Positive</th>\n",
       "    </tr>\n",
       "  </thead>\n",
       "  <tbody>\n",
       "    <tr>\n",
       "      <th>0</th>\n",
       "      <td>4060.020020</td>\n",
       "      <td>0.407692</td>\n",
       "      <td>0.088462</td>\n",
       "      <td>-0.2640</td>\n",
       "      <td>0.122</td>\n",
       "      <td>0.766</td>\n",
       "      <td>0.111</td>\n",
       "    </tr>\n",
       "    <tr>\n",
       "      <th>1</th>\n",
       "      <td>4115.370117</td>\n",
       "      <td>0.446847</td>\n",
       "      <td>0.087961</td>\n",
       "      <td>0.8738</td>\n",
       "      <td>0.100</td>\n",
       "      <td>0.797</td>\n",
       "      <td>0.103</td>\n",
       "    </tr>\n",
       "    <tr>\n",
       "      <th>2</th>\n",
       "      <td>4183.729980</td>\n",
       "      <td>0.476612</td>\n",
       "      <td>0.262024</td>\n",
       "      <td>0.9633</td>\n",
       "      <td>0.124</td>\n",
       "      <td>0.722</td>\n",
       "      <td>0.154</td>\n",
       "    </tr>\n",
       "    <tr>\n",
       "      <th>3</th>\n",
       "      <td>4120.430176</td>\n",
       "      <td>0.414653</td>\n",
       "      <td>-0.019214</td>\n",
       "      <td>-0.9779</td>\n",
       "      <td>0.121</td>\n",
       "      <td>0.812</td>\n",
       "      <td>0.066</td>\n",
       "    </tr>\n",
       "    <tr>\n",
       "      <th>4</th>\n",
       "      <td>4125.310059</td>\n",
       "      <td>0.501934</td>\n",
       "      <td>-0.003837</td>\n",
       "      <td>-0.9948</td>\n",
       "      <td>0.138</td>\n",
       "      <td>0.809</td>\n",
       "      <td>0.053</td>\n",
       "    </tr>\n",
       "    <tr>\n",
       "      <th>...</th>\n",
       "      <td>...</td>\n",
       "      <td>...</td>\n",
       "      <td>...</td>\n",
       "      <td>...</td>\n",
       "      <td>...</td>\n",
       "      <td>...</td>\n",
       "      <td>...</td>\n",
       "    </tr>\n",
       "    <tr>\n",
       "      <th>4887</th>\n",
       "      <td>46973.539063</td>\n",
       "      <td>0.390942</td>\n",
       "      <td>0.048166</td>\n",
       "      <td>-0.9988</td>\n",
       "      <td>0.092</td>\n",
       "      <td>0.842</td>\n",
       "      <td>0.066</td>\n",
       "    </tr>\n",
       "    <tr>\n",
       "      <th>4888</th>\n",
       "      <td>47353.750000</td>\n",
       "      <td>0.412945</td>\n",
       "      <td>0.070517</td>\n",
       "      <td>-0.9998</td>\n",
       "      <td>0.137</td>\n",
       "      <td>0.771</td>\n",
       "      <td>0.092</td>\n",
       "    </tr>\n",
       "    <tr>\n",
       "      <th>4889</th>\n",
       "      <td>47613.078125</td>\n",
       "      <td>0.424021</td>\n",
       "      <td>0.061210</td>\n",
       "      <td>-0.9999</td>\n",
       "      <td>0.148</td>\n",
       "      <td>0.758</td>\n",
       "      <td>0.094</td>\n",
       "    </tr>\n",
       "    <tr>\n",
       "      <th>4890</th>\n",
       "      <td>47746.218750</td>\n",
       "      <td>0.441660</td>\n",
       "      <td>0.043496</td>\n",
       "      <td>-0.9999</td>\n",
       "      <td>0.141</td>\n",
       "      <td>0.780</td>\n",
       "      <td>0.079</td>\n",
       "    </tr>\n",
       "    <tr>\n",
       "      <th>4891</th>\n",
       "      <td>47751.328125</td>\n",
       "      <td>0.406220</td>\n",
       "      <td>0.091373</td>\n",
       "      <td>-0.9998</td>\n",
       "      <td>0.136</td>\n",
       "      <td>0.766</td>\n",
       "      <td>0.098</td>\n",
       "    </tr>\n",
       "  </tbody>\n",
       "</table>\n",
       "<p>4892 rows × 7 columns</p>\n",
       "</div>"
      ],
      "text/plain": [
       "             Close  Subjectivity  Polarity  ...  Negative  Neutral  Positive\n",
       "0      4060.020020      0.407692  0.088462  ...     0.122    0.766     0.111\n",
       "1      4115.370117      0.446847  0.087961  ...     0.100    0.797     0.103\n",
       "2      4183.729980      0.476612  0.262024  ...     0.124    0.722     0.154\n",
       "3      4120.430176      0.414653 -0.019214  ...     0.121    0.812     0.066\n",
       "4      4125.310059      0.501934 -0.003837  ...     0.138    0.809     0.053\n",
       "...            ...           ...       ...  ...       ...      ...       ...\n",
       "4887  46973.539063      0.390942  0.048166  ...     0.092    0.842     0.066\n",
       "4888  47353.750000      0.412945  0.070517  ...     0.137    0.771     0.092\n",
       "4889  47613.078125      0.424021  0.061210  ...     0.148    0.758     0.094\n",
       "4890  47746.218750      0.441660  0.043496  ...     0.141    0.780     0.079\n",
       "4891  47751.328125      0.406220  0.091373  ...     0.136    0.766     0.098\n",
       "\n",
       "[4892 rows x 7 columns]"
      ]
     },
     "execution_count": 167,
     "metadata": {
      "tags": []
     },
     "output_type": "execute_result"
    }
   ],
   "source": [
    "data = df_merge[['Close', 'Subjectivity', 'Polarity', 'Compound', 'Negative', 'Neutral','Positive']]\n",
    "\n",
    "data"
   ]
  },
  {
   "cell_type": "code",
   "execution_count": 168,
   "metadata": {
    "colab": {
     "base_uri": "https://localhost:8080/",
     "height": 206
    },
    "id": "n1uUKp5UpCQM",
    "outputId": "2e28dbf6-d574-4392-f5bc-ce38c5b53772"
   },
   "outputs": [
    {
     "data": {
      "text/html": [
       "<div>\n",
       "<style scoped>\n",
       "    .dataframe tbody tr th:only-of-type {\n",
       "        vertical-align: middle;\n",
       "    }\n",
       "\n",
       "    .dataframe tbody tr th {\n",
       "        vertical-align: top;\n",
       "    }\n",
       "\n",
       "    .dataframe thead th {\n",
       "        text-align: right;\n",
       "    }\n",
       "</style>\n",
       "<table border=\"1\" class=\"dataframe\">\n",
       "  <thead>\n",
       "    <tr style=\"text-align: right;\">\n",
       "      <th></th>\n",
       "      <th>Close</th>\n",
       "      <th>Subjectivity</th>\n",
       "      <th>Polarity</th>\n",
       "      <th>Compound</th>\n",
       "      <th>Negative</th>\n",
       "      <th>Neutral</th>\n",
       "      <th>Positive</th>\n",
       "    </tr>\n",
       "  </thead>\n",
       "  <tbody>\n",
       "    <tr>\n",
       "      <th>0</th>\n",
       "      <td>0.032334</td>\n",
       "      <td>0.407692</td>\n",
       "      <td>0.438811</td>\n",
       "      <td>0.36800</td>\n",
       "      <td>0.274775</td>\n",
       "      <td>0.766</td>\n",
       "      <td>0.182566</td>\n",
       "    </tr>\n",
       "    <tr>\n",
       "      <th>1</th>\n",
       "      <td>0.033559</td>\n",
       "      <td>0.446847</td>\n",
       "      <td>0.438129</td>\n",
       "      <td>0.93690</td>\n",
       "      <td>0.225225</td>\n",
       "      <td>0.797</td>\n",
       "      <td>0.169408</td>\n",
       "    </tr>\n",
       "    <tr>\n",
       "      <th>2</th>\n",
       "      <td>0.035073</td>\n",
       "      <td>0.476612</td>\n",
       "      <td>0.675488</td>\n",
       "      <td>0.98165</td>\n",
       "      <td>0.279279</td>\n",
       "      <td>0.722</td>\n",
       "      <td>0.253289</td>\n",
       "    </tr>\n",
       "    <tr>\n",
       "      <th>3</th>\n",
       "      <td>0.033672</td>\n",
       "      <td>0.414653</td>\n",
       "      <td>0.291981</td>\n",
       "      <td>0.01105</td>\n",
       "      <td>0.272523</td>\n",
       "      <td>0.812</td>\n",
       "      <td>0.108553</td>\n",
       "    </tr>\n",
       "    <tr>\n",
       "      <th>4</th>\n",
       "      <td>0.033780</td>\n",
       "      <td>0.501934</td>\n",
       "      <td>0.312949</td>\n",
       "      <td>0.00260</td>\n",
       "      <td>0.310811</td>\n",
       "      <td>0.809</td>\n",
       "      <td>0.087171</td>\n",
       "    </tr>\n",
       "  </tbody>\n",
       "</table>\n",
       "</div>"
      ],
      "text/plain": [
       "      Close  Subjectivity  Polarity  Compound  Negative  Neutral  Positive\n",
       "0  0.032334      0.407692  0.438811   0.36800  0.274775    0.766  0.182566\n",
       "1  0.033559      0.446847  0.438129   0.93690  0.225225    0.797  0.169408\n",
       "2  0.035073      0.476612  0.675488   0.98165  0.279279    0.722  0.253289\n",
       "3  0.033672      0.414653  0.291981   0.01105  0.272523    0.812  0.108553\n",
       "4  0.033780      0.501934  0.312949   0.00260  0.310811    0.809  0.087171"
      ]
     },
     "execution_count": 168,
     "metadata": {
      "tags": []
     },
     "output_type": "execute_result"
    }
   ],
   "source": [
    "from sklearn.preprocessing import MinMaxScaler\n",
    "sc = MinMaxScaler()\n",
    "preprocessed_data = pd.DataFrame(sc.fit_transform(data))\n",
    "preprocessed_data.columns = data.columns\n",
    "preprocessed_data.index = data.index\n",
    "preprocessed_data.head()"
   ]
  },
  {
   "cell_type": "code",
   "execution_count": 169,
   "metadata": {
    "id": "k8itZ3VPpVBK"
   },
   "outputs": [],
   "source": [
    "X = preprocessed_data.drop('Close', axis=1)\n",
    "y = preprocessed_data['Close']"
   ]
  },
  {
   "cell_type": "code",
   "execution_count": 171,
   "metadata": {
    "colab": {
     "base_uri": "https://localhost:8080/"
    },
    "id": "r2MSImAPqy2z",
    "outputId": "8bb919ec-3f65-4da2-fae6-200bc9c547e0"
   },
   "outputs": [
    {
     "data": {
      "text/plain": [
       "((4892, 6), (4892,))"
      ]
     },
     "execution_count": 171,
     "metadata": {
      "tags": []
     },
     "output_type": "execute_result"
    }
   ],
   "source": [
    "X.shape, y.shape"
   ]
  },
  {
   "cell_type": "markdown",
   "metadata": {
    "id": "MqTLsriTqzV8"
   },
   "source": [
    "## Testing different models"
   ]
  },
  {
   "cell_type": "markdown",
   "metadata": {
    "id": "Oq3VRrU3rT6v"
   },
   "source": [
    "Splitting data into train and test data"
   ]
  },
  {
   "cell_type": "code",
   "execution_count": 173,
   "metadata": {
    "colab": {
     "base_uri": "https://localhost:8080/"
    },
    "id": "tP4K-cDdq7dy",
    "outputId": "cf40dece-919b-4e1f-dbde-24be1ab6f233"
   },
   "outputs": [
    {
     "data": {
      "text/plain": [
       "((3913, 6), (3913,))"
      ]
     },
     "execution_count": 173,
     "metadata": {
      "tags": []
     },
     "output_type": "execute_result"
    }
   ],
   "source": [
    "x_train, x_test, y_train, y_test = train_test_split(X,\n",
    "                                                    y,\n",
    "                                                    test_size=0.2,\n",
    "                                                    random_state=2021)\n",
    "x_train.shape, y_train.shape"
   ]
  },
  {
   "cell_type": "code",
   "execution_count": 215,
   "metadata": {
    "id": "WSMeAqq4r2G1"
   },
   "outputs": [],
   "source": [
    "score = {\n",
    "    'Decision Tree Regressor': None,\n",
    "    'Random Forest Regressor': None,\n",
    "    'AdaBoost Regressor': None,\n",
    "    'LGMB Regressor': None,\n",
    "    'XGB Regressor': None\n",
    "}"
   ]
  },
  {
   "cell_type": "markdown",
   "metadata": {
    "id": "A3cQ9ingrHCa"
   },
   "source": [
    "### Decision Tree Regression Model"
   ]
  },
  {
   "cell_type": "code",
   "execution_count": 216,
   "metadata": {
    "colab": {
     "base_uri": "https://localhost:8080/"
    },
    "id": "PKxRjUXurqjc",
    "outputId": "2df4b046-58f5-4fdc-cc46-14d4c087991c"
   },
   "outputs": [
    {
     "name": "stdout",
     "output_type": "stream",
     "text": [
      "Mean Squared error:  0.041160927146440034\n",
      "Root Mean Squared error:  0.20288155940459457\n"
     ]
    }
   ],
   "source": [
    "dtr = DecisionTreeRegressor()\n",
    "dtr.fit(x_train, y_train)\n",
    "predictions = dtr.predict(x_test)\n",
    "\n",
    "score['Decision Tree Regressor'] = mean_squared_error(predictions, y_test)\n",
    "print('Mean Squared error: ', score['Decision Tree Regressor'])\n",
    "print('Root Mean Squared error: ', math.sqrt(score['Decision Tree Regressor']))"
   ]
  },
  {
   "cell_type": "markdown",
   "metadata": {
    "id": "lxZ4qy5Ks_zA"
   },
   "source": [
    "### Random Forest Regression Model"
   ]
  },
  {
   "cell_type": "code",
   "execution_count": 217,
   "metadata": {
    "colab": {
     "base_uri": "https://localhost:8080/"
    },
    "id": "tgHwpm1YtEge",
    "outputId": "a5dd56d8-4dde-4adb-a330-4f4c8c69d455"
   },
   "outputs": [
    {
     "name": "stdout",
     "output_type": "stream",
     "text": [
      "Mean Squared error:  0.0231023716129327\n",
      "Root Mean Squared error:  0.15199464336920793\n"
     ]
    }
   ],
   "source": [
    "rfr = RandomForestRegressor()\n",
    "rfr.fit(x_train, y_train)\n",
    "predictions = rfr.predict(x_test)\n",
    "\n",
    "score['Random Forest Regressor'] = mean_squared_error(predictions, y_test)\n",
    "print('Mean Squared error: ', score['Random Forest Regressor'])\n",
    "print('Root Mean Squared error: ', math.sqrt(score['Random Forest Regressor']))"
   ]
  },
  {
   "cell_type": "markdown",
   "metadata": {
    "id": "6p3-pnrEtbfH"
   },
   "source": [
    "### AdaBoost Regression Model"
   ]
  },
  {
   "cell_type": "code",
   "execution_count": 218,
   "metadata": {
    "colab": {
     "base_uri": "https://localhost:8080/"
    },
    "id": "RO-1MNget8wF",
    "outputId": "89126b45-ce86-4b42-9894-830ec275af3f"
   },
   "outputs": [
    {
     "name": "stdout",
     "output_type": "stream",
     "text": [
      "Mean Squared error:  0.027827639999083973\n",
      "Root Mean Squared error:  0.16681618626225686\n"
     ]
    }
   ],
   "source": [
    "abr = AdaBoostRegressor()\n",
    "abr.fit(x_train, y_train)\n",
    "predictions = abr.predict(x_test)\n",
    "\n",
    "score['AdaBoost Regressor'] = mean_squared_error(predictions, y_test)\n",
    "print('Mean Squared error: ', score['AdaBoost Regressor'])\n",
    "print('Root Mean Squared error: ', math.sqrt(score['AdaBoost Regressor']))"
   ]
  },
  {
   "cell_type": "markdown",
   "metadata": {
    "id": "qVzXq18yuRiw"
   },
   "source": [
    "### LGBM Regression Model"
   ]
  },
  {
   "cell_type": "code",
   "execution_count": 219,
   "metadata": {
    "colab": {
     "base_uri": "https://localhost:8080/"
    },
    "id": "0PDCws6nuUWf",
    "outputId": "6967f9a9-66bb-4adb-a793-334d3a5f3bff"
   },
   "outputs": [
    {
     "name": "stdout",
     "output_type": "stream",
     "text": [
      "Mean Squared error:  0.021909289628171822\n",
      "Root Mean Squared error:  0.14801786928669058\n"
     ]
    }
   ],
   "source": [
    "lgbm = lightgbm.LGBMRegressor()\n",
    "lgbm.fit(x_train, y_train)\n",
    "predictions = lgbm.predict(x_test)\n",
    "\n",
    "score['LGMB Regressor'] = mean_squared_error(predictions, y_test)\n",
    "print('Mean Squared error: ', score['LGMB Regressor'])\n",
    "print('Root Mean Squared error: ', math.sqrt(score['LGMB Regressor']))"
   ]
  },
  {
   "cell_type": "markdown",
   "metadata": {
    "id": "gDVvWPtuuUjQ"
   },
   "source": [
    "### XGB Regression Model"
   ]
  },
  {
   "cell_type": "code",
   "execution_count": 220,
   "metadata": {
    "colab": {
     "base_uri": "https://localhost:8080/"
    },
    "id": "IysIbmLUv9gM",
    "outputId": "5c04c45a-2ee5-4cd0-f6d2-b8ab1907fea0"
   },
   "outputs": [
    {
     "name": "stdout",
     "output_type": "stream",
     "text": [
      "[21:25:25] WARNING: /workspace/src/objective/regression_obj.cu:152: reg:linear is now deprecated in favor of reg:squarederror.\n",
      "Mean Squared error:  0.022543985008330922\n",
      "Root Mean Squared error:  0.15014654510953931\n"
     ]
    }
   ],
   "source": [
    "xgb = xgboost.XGBRegressor()\n",
    "xgb.fit(x_train, y_train)\n",
    "predictions = xgb.predict(x_test)\n",
    "\n",
    "score['XGB Regressor'] = mean_squared_error(predictions, y_test)\n",
    "print('Mean Squared error: ', score['XGB Regressor'])\n",
    "print('Root Mean Squared error: ', math.sqrt(score['XGB Regressor']))"
   ]
  },
  {
   "cell_type": "markdown",
   "metadata": {
    "id": "7BoTm9LTv9pq"
   },
   "source": [
    "## Evaluating performance"
   ]
  },
  {
   "cell_type": "code",
   "execution_count": 222,
   "metadata": {
    "colab": {
     "base_uri": "https://localhost:8080/",
     "height": 206
    },
    "id": "d6GG37sewvBm",
    "outputId": "5621288f-8c43-4fce-c760-c1a39efd9dd6"
   },
   "outputs": [
    {
     "data": {
      "text/html": [
       "<div>\n",
       "<style scoped>\n",
       "    .dataframe tbody tr th:only-of-type {\n",
       "        vertical-align: middle;\n",
       "    }\n",
       "\n",
       "    .dataframe tbody tr th {\n",
       "        vertical-align: top;\n",
       "    }\n",
       "\n",
       "    .dataframe thead th {\n",
       "        text-align: right;\n",
       "    }\n",
       "</style>\n",
       "<table border=\"1\" class=\"dataframe\">\n",
       "  <thead>\n",
       "    <tr style=\"text-align: right;\">\n",
       "      <th></th>\n",
       "      <th>MSE</th>\n",
       "    </tr>\n",
       "  </thead>\n",
       "  <tbody>\n",
       "    <tr>\n",
       "      <th>Decision Tree Regressor</th>\n",
       "      <td>0.041161</td>\n",
       "    </tr>\n",
       "    <tr>\n",
       "      <th>Random Forest Regressor</th>\n",
       "      <td>0.023102</td>\n",
       "    </tr>\n",
       "    <tr>\n",
       "      <th>AdaBoost Regressor</th>\n",
       "      <td>0.027828</td>\n",
       "    </tr>\n",
       "    <tr>\n",
       "      <th>LGMB Regressor</th>\n",
       "      <td>0.021909</td>\n",
       "    </tr>\n",
       "    <tr>\n",
       "      <th>XGB Regressor</th>\n",
       "      <td>0.022544</td>\n",
       "    </tr>\n",
       "  </tbody>\n",
       "</table>\n",
       "</div>"
      ],
      "text/plain": [
       "                              MSE\n",
       "Decision Tree Regressor  0.041161\n",
       "Random Forest Regressor  0.023102\n",
       "AdaBoost Regressor       0.027828\n",
       "LGMB Regressor           0.021909\n",
       "XGB Regressor            0.022544"
      ]
     },
     "execution_count": 222,
     "metadata": {
      "tags": []
     },
     "output_type": "execute_result"
    }
   ],
   "source": [
    "pd.DataFrame(score.values(), index=score.keys(), columns=['MSE'])"
   ]
  },
  {
   "cell_type": "markdown",
   "metadata": {
    "id": "VauwV1ewwzD4"
   },
   "source": [
    "LGMB Regressor performs better than other models"
   ]
  },
  {
   "cell_type": "markdown",
   "metadata": {
    "id": "hAOSH6gbyRHn"
   },
   "source": [
    "# Thank you!"
   ]
  }
 ],
 "metadata": {
  "colab": {
   "collapsed_sections": [],
   "name": "Stock Market Prediction.ipynb",
   "provenance": []
  },
  "kernelspec": {
   "display_name": "Python 3",
   "language": "python",
   "name": "python3"
  },
  "language_info": {
   "codemirror_mode": {
    "name": "ipython",
    "version": 3
   },
   "file_extension": ".py",
   "mimetype": "text/x-python",
   "name": "python",
   "nbconvert_exporter": "python",
   "pygments_lexer": "ipython3",
   "version": "3.9.0"
  },
  "latex_envs": {
   "LaTeX_envs_menu_present": true,
   "autoclose": false,
   "autocomplete": true,
   "bibliofile": "biblio.bib",
   "cite_by": "apalike",
   "current_citInitial": 1,
   "eqLabelWithNumbers": true,
   "eqNumInitial": 1,
   "hotkeys": {
    "equation": "Ctrl-E",
    "itemize": "Ctrl-I"
   },
   "labels_anchors": false,
   "latex_user_defs": false,
   "report_style_numbering": false,
   "user_envs_cfg": false
  },
  "toc": {
   "base_numbering": 1,
   "nav_menu": {},
   "number_sections": true,
   "sideBar": true,
   "skip_h1_title": false,
   "title_cell": "Table of Contents",
   "title_sidebar": "Contents",
   "toc_cell": false,
   "toc_position": {},
   "toc_section_display": true,
   "toc_window_display": false
  },
  "varInspector": {
   "cols": {
    "lenName": 16,
    "lenType": 16,
    "lenVar": 40
   },
   "kernels_config": {
    "python": {
     "delete_cmd_postfix": "",
     "delete_cmd_prefix": "del ",
     "library": "var_list.py",
     "varRefreshCmd": "print(var_dic_list())"
    },
    "r": {
     "delete_cmd_postfix": ") ",
     "delete_cmd_prefix": "rm(",
     "library": "var_list.r",
     "varRefreshCmd": "cat(var_dic_list()) "
    }
   },
   "types_to_exclude": [
    "module",
    "function",
    "builtin_function_or_method",
    "instance",
    "_Feature"
   ],
   "window_display": false
  }
 },
 "nbformat": 4,
 "nbformat_minor": 1
}
